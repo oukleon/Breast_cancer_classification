{
 "cells": [
  {
   "cell_type": "markdown",
   "id": "broke-program",
   "metadata": {
    "papermill": {
     "duration": 0.056694,
     "end_time": "2021-07-06T05:28:59.933664",
     "exception": false,
     "start_time": "2021-07-06T05:28:59.876970",
     "status": "completed"
    },
    "tags": []
   },
   "source": [
    "##  Import related libraries"
   ]
  },
  {
   "cell_type": "code",
   "execution_count": 1,
   "id": "israeli-telling",
   "metadata": {
    "execution": {
     "iopub.execute_input": "2021-07-06T05:29:00.060522Z",
     "iopub.status.busy": "2021-07-06T05:29:00.059832Z",
     "iopub.status.idle": "2021-07-06T05:29:07.353987Z",
     "shell.execute_reply": "2021-07-06T05:29:07.354567Z",
     "shell.execute_reply.started": "2021-07-06T04:01:29.656960Z"
    },
    "papermill": {
     "duration": 7.364408,
     "end_time": "2021-07-06T05:29:07.354865",
     "exception": false,
     "start_time": "2021-07-06T05:28:59.990457",
     "status": "completed"
    },
    "tags": []
   },
   "outputs": [],
   "source": [
    "import os\n",
    "import zipfile\n",
    "import random\n",
    "import tensorflow as tf\n",
    "from tensorflow.keras.optimizers import RMSprop\n",
    "from tensorflow.keras.preprocessing.image import ImageDataGenerator\n",
    "from shutil import copyfile\n",
    "import numpy as np\n",
    "import pandas as pd\n",
    "import matplotlib.pyplot as plt\n",
    "import seaborn as sns\n",
    "from sklearn.model_selection import train_test_split, GridSearchCV"
   ]
  },
  {
   "cell_type": "markdown",
   "id": "agreed-storm",
   "metadata": {
    "papermill": {
     "duration": 0.05657,
     "end_time": "2021-07-06T05:29:07.468207",
     "exception": false,
     "start_time": "2021-07-06T05:29:07.411637",
     "status": "completed"
    },
    "tags": []
   },
   "source": [
    "## Data preprocessing"
   ]
  },
  {
   "cell_type": "code",
   "execution_count": 2,
   "id": "protecting-setting",
   "metadata": {
    "execution": {
     "iopub.execute_input": "2021-07-06T05:29:07.583992Z",
     "iopub.status.busy": "2021-07-06T05:29:07.583280Z",
     "iopub.status.idle": "2021-07-06T05:29:07.642450Z",
     "shell.execute_reply": "2021-07-06T05:29:07.643077Z",
     "shell.execute_reply.started": "2021-07-06T04:01:36.393940Z"
    },
    "papermill": {
     "duration": 0.118718,
     "end_time": "2021-07-06T05:29:07.643264",
     "exception": false,
     "start_time": "2021-07-06T05:29:07.524546",
     "status": "completed"
    },
    "tags": []
   },
   "outputs": [
    {
     "data": {
      "text/html": [
       "<div>\n",
       "<style scoped>\n",
       "    .dataframe tbody tr th:only-of-type {\n",
       "        vertical-align: middle;\n",
       "    }\n",
       "\n",
       "    .dataframe tbody tr th {\n",
       "        vertical-align: top;\n",
       "    }\n",
       "\n",
       "    .dataframe thead th {\n",
       "        text-align: right;\n",
       "    }\n",
       "</style>\n",
       "<table border=\"1\" class=\"dataframe\">\n",
       "  <thead>\n",
       "    <tr style=\"text-align: right;\">\n",
       "      <th></th>\n",
       "      <th>mean_radius</th>\n",
       "      <th>mean_texture</th>\n",
       "      <th>mean_perimeter</th>\n",
       "      <th>mean_area</th>\n",
       "      <th>mean_smoothness</th>\n",
       "      <th>diagnosis</th>\n",
       "    </tr>\n",
       "  </thead>\n",
       "  <tbody>\n",
       "    <tr>\n",
       "      <th>0</th>\n",
       "      <td>17.99</td>\n",
       "      <td>10.38</td>\n",
       "      <td>122.80</td>\n",
       "      <td>1001.0</td>\n",
       "      <td>0.11840</td>\n",
       "      <td>0</td>\n",
       "    </tr>\n",
       "    <tr>\n",
       "      <th>1</th>\n",
       "      <td>20.57</td>\n",
       "      <td>17.77</td>\n",
       "      <td>132.90</td>\n",
       "      <td>1326.0</td>\n",
       "      <td>0.08474</td>\n",
       "      <td>0</td>\n",
       "    </tr>\n",
       "    <tr>\n",
       "      <th>2</th>\n",
       "      <td>19.69</td>\n",
       "      <td>21.25</td>\n",
       "      <td>130.00</td>\n",
       "      <td>1203.0</td>\n",
       "      <td>0.10960</td>\n",
       "      <td>0</td>\n",
       "    </tr>\n",
       "    <tr>\n",
       "      <th>3</th>\n",
       "      <td>11.42</td>\n",
       "      <td>20.38</td>\n",
       "      <td>77.58</td>\n",
       "      <td>386.1</td>\n",
       "      <td>0.14250</td>\n",
       "      <td>0</td>\n",
       "    </tr>\n",
       "    <tr>\n",
       "      <th>4</th>\n",
       "      <td>20.29</td>\n",
       "      <td>14.34</td>\n",
       "      <td>135.10</td>\n",
       "      <td>1297.0</td>\n",
       "      <td>0.10030</td>\n",
       "      <td>0</td>\n",
       "    </tr>\n",
       "    <tr>\n",
       "      <th>...</th>\n",
       "      <td>...</td>\n",
       "      <td>...</td>\n",
       "      <td>...</td>\n",
       "      <td>...</td>\n",
       "      <td>...</td>\n",
       "      <td>...</td>\n",
       "    </tr>\n",
       "    <tr>\n",
       "      <th>564</th>\n",
       "      <td>21.56</td>\n",
       "      <td>22.39</td>\n",
       "      <td>142.00</td>\n",
       "      <td>1479.0</td>\n",
       "      <td>0.11100</td>\n",
       "      <td>0</td>\n",
       "    </tr>\n",
       "    <tr>\n",
       "      <th>565</th>\n",
       "      <td>20.13</td>\n",
       "      <td>28.25</td>\n",
       "      <td>131.20</td>\n",
       "      <td>1261.0</td>\n",
       "      <td>0.09780</td>\n",
       "      <td>0</td>\n",
       "    </tr>\n",
       "    <tr>\n",
       "      <th>566</th>\n",
       "      <td>16.60</td>\n",
       "      <td>28.08</td>\n",
       "      <td>108.30</td>\n",
       "      <td>858.1</td>\n",
       "      <td>0.08455</td>\n",
       "      <td>0</td>\n",
       "    </tr>\n",
       "    <tr>\n",
       "      <th>567</th>\n",
       "      <td>20.60</td>\n",
       "      <td>29.33</td>\n",
       "      <td>140.10</td>\n",
       "      <td>1265.0</td>\n",
       "      <td>0.11780</td>\n",
       "      <td>0</td>\n",
       "    </tr>\n",
       "    <tr>\n",
       "      <th>568</th>\n",
       "      <td>7.76</td>\n",
       "      <td>24.54</td>\n",
       "      <td>47.92</td>\n",
       "      <td>181.0</td>\n",
       "      <td>0.05263</td>\n",
       "      <td>1</td>\n",
       "    </tr>\n",
       "  </tbody>\n",
       "</table>\n",
       "<p>569 rows × 6 columns</p>\n",
       "</div>"
      ],
      "text/plain": [
       "     mean_radius  mean_texture  mean_perimeter  mean_area  mean_smoothness  \\\n",
       "0          17.99         10.38          122.80     1001.0          0.11840   \n",
       "1          20.57         17.77          132.90     1326.0          0.08474   \n",
       "2          19.69         21.25          130.00     1203.0          0.10960   \n",
       "3          11.42         20.38           77.58      386.1          0.14250   \n",
       "4          20.29         14.34          135.10     1297.0          0.10030   \n",
       "..           ...           ...             ...        ...              ...   \n",
       "564        21.56         22.39          142.00     1479.0          0.11100   \n",
       "565        20.13         28.25          131.20     1261.0          0.09780   \n",
       "566        16.60         28.08          108.30      858.1          0.08455   \n",
       "567        20.60         29.33          140.10     1265.0          0.11780   \n",
       "568         7.76         24.54           47.92      181.0          0.05263   \n",
       "\n",
       "     diagnosis  \n",
       "0            0  \n",
       "1            0  \n",
       "2            0  \n",
       "3            0  \n",
       "4            0  \n",
       "..         ...  \n",
       "564          0  \n",
       "565          0  \n",
       "566          0  \n",
       "567          0  \n",
       "568          1  \n",
       "\n",
       "[569 rows x 6 columns]"
      ]
     },
     "execution_count": 2,
     "metadata": {},
     "output_type": "execute_result"
    }
   ],
   "source": [
    "csv_file='../input/breast-cancer-prediction-dataset/Breast_cancer_data.csv'\n",
    "df=pd.read_csv(csv_file)\n",
    "df"
   ]
  },
  {
   "cell_type": "code",
   "execution_count": 3,
   "id": "advance-snake",
   "metadata": {
    "execution": {
     "iopub.execute_input": "2021-07-06T05:29:07.765976Z",
     "iopub.status.busy": "2021-07-06T05:29:07.765289Z",
     "iopub.status.idle": "2021-07-06T05:29:07.772946Z",
     "shell.execute_reply": "2021-07-06T05:29:07.772355Z",
     "shell.execute_reply.started": "2021-07-06T04:01:36.475016Z"
    },
    "papermill": {
     "duration": 0.069141,
     "end_time": "2021-07-06T05:29:07.773103",
     "exception": false,
     "start_time": "2021-07-06T05:29:07.703962",
     "status": "completed"
    },
    "tags": []
   },
   "outputs": [
    {
     "data": {
      "text/plain": [
       "mean_radius        float64\n",
       "mean_texture       float64\n",
       "mean_perimeter     float64\n",
       "mean_area          float64\n",
       "mean_smoothness    float64\n",
       "diagnosis            int64\n",
       "dtype: object"
      ]
     },
     "execution_count": 3,
     "metadata": {},
     "output_type": "execute_result"
    }
   ],
   "source": [
    "df.dtypes"
   ]
  },
  {
   "cell_type": "code",
   "execution_count": 4,
   "id": "brazilian-discovery",
   "metadata": {
    "execution": {
     "iopub.execute_input": "2021-07-06T05:29:07.897501Z",
     "iopub.status.busy": "2021-07-06T05:29:07.896802Z",
     "iopub.status.idle": "2021-07-06T05:29:07.900071Z",
     "shell.execute_reply": "2021-07-06T05:29:07.899534Z",
     "shell.execute_reply.started": "2021-07-06T04:01:36.488098Z"
    },
    "papermill": {
     "duration": 0.068117,
     "end_time": "2021-07-06T05:29:07.900210",
     "exception": false,
     "start_time": "2021-07-06T05:29:07.832093",
     "status": "completed"
    },
    "tags": []
   },
   "outputs": [],
   "source": [
    "df_corr=df.corr()"
   ]
  },
  {
   "cell_type": "code",
   "execution_count": 5,
   "id": "charming-classroom",
   "metadata": {
    "execution": {
     "iopub.execute_input": "2021-07-06T05:29:08.037826Z",
     "iopub.status.busy": "2021-07-06T05:29:08.037001Z",
     "iopub.status.idle": "2021-07-06T05:29:08.730191Z",
     "shell.execute_reply": "2021-07-06T05:29:08.730696Z",
     "shell.execute_reply.started": "2021-07-06T04:01:36.504947Z"
    },
    "papermill": {
     "duration": 0.773493,
     "end_time": "2021-07-06T05:29:08.730862",
     "exception": false,
     "start_time": "2021-07-06T05:29:07.957369",
     "status": "completed"
    },
    "tags": []
   },
   "outputs": [
    {
     "data": {
      "text/plain": [
       "<AxesSubplot:>"
      ]
     },
     "execution_count": 5,
     "metadata": {},
     "output_type": "execute_result"
    },
    {
     "data": {
      "image/png": "[encoded data removed]",
      "text/plain": [
       "<Figure size 432x288 with 2 Axes>"
      ]
     },
     "metadata": {
      "needs_background": "light"
     },
     "output_type": "display_data"
    }
   ],
   "source": [
    "sns.heatmap(df_corr,annot=True,cmap='coolwarm')"
   ]
  },
  {
   "cell_type": "code",
   "execution_count": 6,
   "id": "senior-mauritius",
   "metadata": {
    "execution": {
     "iopub.execute_input": "2021-07-06T05:29:08.858270Z",
     "iopub.status.busy": "2021-07-06T05:29:08.857551Z",
     "iopub.status.idle": "2021-07-06T05:29:08.860425Z",
     "shell.execute_reply": "2021-07-06T05:29:08.860924Z",
     "shell.execute_reply.started": "2021-07-06T04:01:36.934692Z"
    },
    "papermill": {
     "duration": 0.071173,
     "end_time": "2021-07-06T05:29:08.861094",
     "exception": false,
     "start_time": "2021-07-06T05:29:08.789921",
     "status": "completed"
    },
    "tags": []
   },
   "outputs": [],
   "source": [
    "# Dropping overlapped features\n",
    "df.drop(['mean_radius','mean_area'],axis=1,inplace=True)"
   ]
  },
  {
   "cell_type": "code",
   "execution_count": 7,
   "id": "dynamic-prime",
   "metadata": {
    "execution": {
     "iopub.execute_input": "2021-07-06T05:29:08.982501Z",
     "iopub.status.busy": "2021-07-06T05:29:08.981148Z",
     "iopub.status.idle": "2021-07-06T05:29:08.985764Z",
     "shell.execute_reply": "2021-07-06T05:29:08.985191Z",
     "shell.execute_reply.started": "2021-07-06T04:01:36.943135Z"
    },
    "papermill": {
     "duration": 0.066406,
     "end_time": "2021-07-06T05:29:08.985903",
     "exception": false,
     "start_time": "2021-07-06T05:29:08.919497",
     "status": "completed"
    },
    "tags": []
   },
   "outputs": [],
   "source": [
    "df_2_corr=df.corr()"
   ]
  },
  {
   "cell_type": "code",
   "execution_count": 8,
   "id": "suitable-hollywood",
   "metadata": {
    "execution": {
     "iopub.execute_input": "2021-07-06T05:29:09.134908Z",
     "iopub.status.busy": "2021-07-06T05:29:09.133963Z",
     "iopub.status.idle": "2021-07-06T05:29:09.469357Z",
     "shell.execute_reply": "2021-07-06T05:29:09.468307Z",
     "shell.execute_reply.started": "2021-07-06T04:01:36.955480Z"
    },
    "papermill": {
     "duration": 0.42309,
     "end_time": "2021-07-06T05:29:09.469529",
     "exception": false,
     "start_time": "2021-07-06T05:29:09.046439",
     "status": "completed"
    },
    "tags": []
   },
   "outputs": [
    {
     "data": {
      "text/plain": [
       "<AxesSubplot:>"
      ]
     },
     "execution_count": 8,
     "metadata": {},
     "output_type": "execute_result"
    },
    {
     "data": {
      "image/png": "[encoded data removed]",
      "text/plain": [
       "<Figure size 432x288 with 2 Axes>"
      ]
     },
     "metadata": {
      "needs_background": "light"
     },
     "output_type": "display_data"
    }
   ],
   "source": [
    "sns.heatmap(df_2_corr,annot=True,cmap='coolwarm')"
   ]
  },
  {
   "cell_type": "code",
   "execution_count": 9,
   "id": "intellectual-canon",
   "metadata": {
    "execution": {
     "iopub.execute_input": "2021-07-06T05:29:09.596166Z",
     "iopub.status.busy": "2021-07-06T05:29:09.595496Z",
     "iopub.status.idle": "2021-07-06T05:29:09.618905Z",
     "shell.execute_reply": "2021-07-06T05:29:09.619394Z",
     "shell.execute_reply.started": "2021-07-06T04:01:37.243464Z"
    },
    "papermill": {
     "duration": 0.08986,
     "end_time": "2021-07-06T05:29:09.619594",
     "exception": false,
     "start_time": "2021-07-06T05:29:09.529734",
     "status": "completed"
    },
    "tags": []
   },
   "outputs": [
    {
     "data": {
      "text/plain": [
       "1    0.627417\n",
       "0    0.372583\n",
       "Name: diagnosis, dtype: float64"
      ]
     },
     "execution_count": 9,
     "metadata": {},
     "output_type": "execute_result"
    }
   ],
   "source": [
    "df.diagnosis.value_counts()/len(df)"
   ]
  },
  {
   "cell_type": "code",
   "execution_count": 10,
   "id": "sticky-bench",
   "metadata": {
    "execution": {
     "iopub.execute_input": "2021-07-06T05:29:09.742372Z",
     "iopub.status.busy": "2021-07-06T05:29:09.741730Z",
     "iopub.status.idle": "2021-07-06T05:29:09.875335Z",
     "shell.execute_reply": "2021-07-06T05:29:09.875882Z",
     "shell.execute_reply.started": "2021-07-06T04:01:37.268676Z"
    },
    "papermill": {
     "duration": 0.197348,
     "end_time": "2021-07-06T05:29:09.876067",
     "exception": false,
     "start_time": "2021-07-06T05:29:09.678719",
     "status": "completed"
    },
    "tags": []
   },
   "outputs": [
    {
     "data": {
      "text/plain": [
       "<AxesSubplot:xlabel='count', ylabel='diagnosis'>"
      ]
     },
     "execution_count": 10,
     "metadata": {},
     "output_type": "execute_result"
    },
    {
     "data": {
      "image/png": "[encoded data removed]",
      "text/plain": [
       "<Figure size 432x288 with 1 Axes>"
      ]
     },
     "metadata": {
      "needs_background": "light"
     },
     "output_type": "display_data"
    }
   ],
   "source": [
    "sns.countplot(y=df.diagnosis)"
   ]
  },
  {
   "cell_type": "code",
   "execution_count": 11,
   "id": "recognized-julian",
   "metadata": {
    "execution": {
     "iopub.execute_input": "2021-07-06T05:29:10.001598Z",
     "iopub.status.busy": "2021-07-06T05:29:10.000908Z",
     "iopub.status.idle": "2021-07-06T05:29:13.042868Z",
     "shell.execute_reply": "2021-07-06T05:29:13.042231Z",
     "shell.execute_reply.started": "2021-07-06T04:01:37.377959Z"
    },
    "papermill": {
     "duration": 3.105171,
     "end_time": "2021-07-06T05:29:13.043014",
     "exception": false,
     "start_time": "2021-07-06T05:29:09.937843",
     "status": "completed"
    },
    "tags": []
   },
   "outputs": [
    {
     "data": {
      "image/png": "[encoded data removed]",
      "text/plain": [
       "<Figure size 584.625x540 with 12 Axes>"
      ]
     },
     "metadata": {
      "needs_background": "light"
     },
     "output_type": "display_data"
    }
   ],
   "source": [
    "df['target'] = df['diagnosis'].map({0:'B',1:'M'})\n",
    "sns.pairplot(df.drop('diagnosis', axis = 1), hue='target',palette='prism');"
   ]
  },
  {
   "cell_type": "code",
   "execution_count": 12,
   "id": "integrated-creator",
   "metadata": {
    "execution": {
     "iopub.execute_input": "2021-07-06T05:29:13.181488Z",
     "iopub.status.busy": "2021-07-06T05:29:13.180798Z",
     "iopub.status.idle": "2021-07-06T05:29:13.185955Z",
     "shell.execute_reply": "2021-07-06T05:29:13.186427Z",
     "shell.execute_reply.started": "2021-07-06T04:01:39.869686Z"
    },
    "papermill": {
     "duration": 0.077135,
     "end_time": "2021-07-06T05:29:13.186637",
     "exception": false,
     "start_time": "2021-07-06T05:29:13.109502",
     "status": "completed"
    },
    "tags": []
   },
   "outputs": [],
   "source": [
    "X = df.drop(['diagnosis','target'],axis=1)\n",
    "Y = df['diagnosis']"
   ]
  },
  {
   "cell_type": "code",
   "execution_count": 13,
   "id": "realistic-playlist",
   "metadata": {
    "execution": {
     "iopub.execute_input": "2021-07-06T05:29:13.321432Z",
     "iopub.status.busy": "2021-07-06T05:29:13.320788Z",
     "iopub.status.idle": "2021-07-06T05:29:13.327147Z",
     "shell.execute_reply": "2021-07-06T05:29:13.327806Z",
     "shell.execute_reply.started": "2021-07-06T04:01:39.878663Z"
    },
    "papermill": {
     "duration": 0.075102,
     "end_time": "2021-07-06T05:29:13.327990",
     "exception": false,
     "start_time": "2021-07-06T05:29:13.252888",
     "status": "completed"
    },
    "tags": []
   },
   "outputs": [],
   "source": [
    "x_train, x_test, y_train, y_test = train_test_split(X, Y, test_size=0.2, random_state=0)"
   ]
  },
  {
   "cell_type": "code",
   "execution_count": 14,
   "id": "ethical-anime",
   "metadata": {
    "execution": {
     "iopub.execute_input": "2021-07-06T05:29:13.462274Z",
     "iopub.status.busy": "2021-07-06T05:29:13.461258Z",
     "iopub.status.idle": "2021-07-06T05:29:13.476491Z",
     "shell.execute_reply": "2021-07-06T05:29:13.476976Z",
     "shell.execute_reply.started": "2021-07-06T04:01:39.892244Z"
    },
    "papermill": {
     "duration": 0.083833,
     "end_time": "2021-07-06T05:29:13.477178",
     "exception": false,
     "start_time": "2021-07-06T05:29:13.393345",
     "status": "completed"
    },
    "tags": []
   },
   "outputs": [
    {
     "data": {
      "text/html": [
       "<div>\n",
       "<style scoped>\n",
       "    .dataframe tbody tr th:only-of-type {\n",
       "        vertical-align: middle;\n",
       "    }\n",
       "\n",
       "    .dataframe tbody tr th {\n",
       "        vertical-align: top;\n",
       "    }\n",
       "\n",
       "    .dataframe thead th {\n",
       "        text-align: right;\n",
       "    }\n",
       "</style>\n",
       "<table border=\"1\" class=\"dataframe\">\n",
       "  <thead>\n",
       "    <tr style=\"text-align: right;\">\n",
       "      <th></th>\n",
       "      <th>mean_texture</th>\n",
       "      <th>mean_perimeter</th>\n",
       "      <th>mean_smoothness</th>\n",
       "    </tr>\n",
       "  </thead>\n",
       "  <tbody>\n",
       "    <tr>\n",
       "      <th>338</th>\n",
       "      <td>17.53</td>\n",
       "      <td>64.41</td>\n",
       "      <td>0.10070</td>\n",
       "    </tr>\n",
       "    <tr>\n",
       "      <th>427</th>\n",
       "      <td>21.98</td>\n",
       "      <td>68.79</td>\n",
       "      <td>0.08801</td>\n",
       "    </tr>\n",
       "    <tr>\n",
       "      <th>406</th>\n",
       "      <td>14.86</td>\n",
       "      <td>104.30</td>\n",
       "      <td>0.09495</td>\n",
       "    </tr>\n",
       "    <tr>\n",
       "      <th>96</th>\n",
       "      <td>17.84</td>\n",
       "      <td>77.79</td>\n",
       "      <td>0.10450</td>\n",
       "    </tr>\n",
       "    <tr>\n",
       "      <th>490</th>\n",
       "      <td>22.44</td>\n",
       "      <td>78.18</td>\n",
       "      <td>0.08192</td>\n",
       "    </tr>\n",
       "    <tr>\n",
       "      <th>...</th>\n",
       "      <td>...</td>\n",
       "      <td>...</td>\n",
       "      <td>...</td>\n",
       "    </tr>\n",
       "    <tr>\n",
       "      <th>277</th>\n",
       "      <td>19.98</td>\n",
       "      <td>120.90</td>\n",
       "      <td>0.08923</td>\n",
       "    </tr>\n",
       "    <tr>\n",
       "      <th>9</th>\n",
       "      <td>24.04</td>\n",
       "      <td>83.97</td>\n",
       "      <td>0.11860</td>\n",
       "    </tr>\n",
       "    <tr>\n",
       "      <th>359</th>\n",
       "      <td>18.32</td>\n",
       "      <td>59.82</td>\n",
       "      <td>0.10090</td>\n",
       "    </tr>\n",
       "    <tr>\n",
       "      <th>192</th>\n",
       "      <td>18.22</td>\n",
       "      <td>60.73</td>\n",
       "      <td>0.06950</td>\n",
       "    </tr>\n",
       "    <tr>\n",
       "      <th>559</th>\n",
       "      <td>23.93</td>\n",
       "      <td>74.52</td>\n",
       "      <td>0.09261</td>\n",
       "    </tr>\n",
       "  </tbody>\n",
       "</table>\n",
       "<p>455 rows × 3 columns</p>\n",
       "</div>"
      ],
      "text/plain": [
       "     mean_texture  mean_perimeter  mean_smoothness\n",
       "338         17.53           64.41          0.10070\n",
       "427         21.98           68.79          0.08801\n",
       "406         14.86          104.30          0.09495\n",
       "96          17.84           77.79          0.10450\n",
       "490         22.44           78.18          0.08192\n",
       "..            ...             ...              ...\n",
       "277         19.98          120.90          0.08923\n",
       "9           24.04           83.97          0.11860\n",
       "359         18.32           59.82          0.10090\n",
       "192         18.22           60.73          0.06950\n",
       "559         23.93           74.52          0.09261\n",
       "\n",
       "[455 rows x 3 columns]"
      ]
     },
     "execution_count": 14,
     "metadata": {},
     "output_type": "execute_result"
    }
   ],
   "source": [
    "x_train"
   ]
  },
  {
   "cell_type": "code",
   "execution_count": 15,
   "id": "suspended-wilderness",
   "metadata": {
    "execution": {
     "iopub.execute_input": "2021-07-06T05:29:13.611189Z",
     "iopub.status.busy": "2021-07-06T05:29:13.610489Z",
     "iopub.status.idle": "2021-07-06T05:29:13.622077Z",
     "shell.execute_reply": "2021-07-06T05:29:13.622655Z",
     "shell.execute_reply.started": "2021-07-06T04:01:39.912672Z"
    },
    "papermill": {
     "duration": 0.079941,
     "end_time": "2021-07-06T05:29:13.622839",
     "exception": false,
     "start_time": "2021-07-06T05:29:13.542898",
     "status": "completed"
    },
    "tags": []
   },
   "outputs": [],
   "source": [
    "from sklearn.preprocessing import MinMaxScaler\n",
    "\n",
    "sc = MinMaxScaler()\n",
    "X_train = sc.fit_transform(x_train)\n",
    "y_train=np.array(y_train)\n",
    "X_test = sc.fit_transform(x_test)\n",
    "y_test=np.array(y_test)"
   ]
  },
  {
   "cell_type": "markdown",
   "id": "golden-constraint",
   "metadata": {
    "papermill": {
     "duration": 0.06967,
     "end_time": "2021-07-06T05:29:13.757778",
     "exception": false,
     "start_time": "2021-07-06T05:29:13.688108",
     "status": "completed"
    },
    "tags": []
   },
   "source": [
    "## Logistic Regression"
   ]
  },
  {
   "cell_type": "code",
   "execution_count": 16,
   "id": "intelligent-pipeline",
   "metadata": {
    "execution": {
     "iopub.execute_input": "2021-07-06T05:29:13.894375Z",
     "iopub.status.busy": "2021-07-06T05:29:13.893723Z",
     "iopub.status.idle": "2021-07-06T05:29:14.003042Z",
     "shell.execute_reply": "2021-07-06T05:29:14.003673Z",
     "shell.execute_reply.started": "2021-07-06T04:01:39.929438Z"
    },
    "papermill": {
     "duration": 0.178547,
     "end_time": "2021-07-06T05:29:14.003857",
     "exception": false,
     "start_time": "2021-07-06T05:29:13.825310",
     "status": "completed"
    },
    "tags": []
   },
   "outputs": [],
   "source": [
    "from sklearn.linear_model import LogisticRegression\n",
    "\n",
    "log_clf=LogisticRegression()"
   ]
  },
  {
   "cell_type": "code",
   "execution_count": 17,
   "id": "stainless-cargo",
   "metadata": {
    "execution": {
     "iopub.execute_input": "2021-07-06T05:29:14.139137Z",
     "iopub.status.busy": "2021-07-06T05:29:14.138404Z",
     "iopub.status.idle": "2021-07-06T05:29:14.156620Z",
     "shell.execute_reply": "2021-07-06T05:29:14.156056Z",
     "shell.execute_reply.started": "2021-07-06T04:01:40.034565Z"
    },
    "papermill": {
     "duration": 0.087519,
     "end_time": "2021-07-06T05:29:14.156777",
     "exception": false,
     "start_time": "2021-07-06T05:29:14.069258",
     "status": "completed"
    },
    "tags": []
   },
   "outputs": [
    {
     "data": {
      "text/plain": [
       "LogisticRegression()"
      ]
     },
     "execution_count": 17,
     "metadata": {},
     "output_type": "execute_result"
    }
   ],
   "source": [
    "log_clf.fit(X_train,y_train)"
   ]
  },
  {
   "cell_type": "code",
   "execution_count": 18,
   "id": "alpine-dining",
   "metadata": {
    "execution": {
     "iopub.execute_input": "2021-07-06T05:29:14.296353Z",
     "iopub.status.busy": "2021-07-06T05:29:14.295238Z",
     "iopub.status.idle": "2021-07-06T05:29:14.298528Z",
     "shell.execute_reply": "2021-07-06T05:29:14.297963Z",
     "shell.execute_reply.started": "2021-07-06T04:01:40.053091Z"
    },
    "papermill": {
     "duration": 0.073327,
     "end_time": "2021-07-06T05:29:14.298678",
     "exception": false,
     "start_time": "2021-07-06T05:29:14.225351",
     "status": "completed"
    },
    "tags": []
   },
   "outputs": [],
   "source": [
    "y_pred=log_clf.predict(X_test)"
   ]
  },
  {
   "cell_type": "code",
   "execution_count": 19,
   "id": "mounted-flood",
   "metadata": {
    "execution": {
     "iopub.execute_input": "2021-07-06T05:29:14.449288Z",
     "iopub.status.busy": "2021-07-06T05:29:14.448390Z",
     "iopub.status.idle": "2021-07-06T05:29:14.452607Z",
     "shell.execute_reply": "2021-07-06T05:29:14.452081Z",
     "shell.execute_reply.started": "2021-07-06T04:01:40.058880Z"
    },
    "papermill": {
     "duration": 0.077869,
     "end_time": "2021-07-06T05:29:14.452751",
     "exception": false,
     "start_time": "2021-07-06T05:29:14.374882",
     "status": "completed"
    },
    "tags": []
   },
   "outputs": [
    {
     "data": {
      "text/plain": [
       "0.9122807017543859"
      ]
     },
     "execution_count": 19,
     "metadata": {},
     "output_type": "execute_result"
    }
   ],
   "source": [
    "log_clf.score(X_test,y_test)"
   ]
  },
  {
   "cell_type": "code",
   "execution_count": 20,
   "id": "alleged-majority",
   "metadata": {
    "execution": {
     "iopub.execute_input": "2021-07-06T05:29:14.590485Z",
     "iopub.status.busy": "2021-07-06T05:29:14.589786Z",
     "iopub.status.idle": "2021-07-06T05:29:14.595551Z",
     "shell.execute_reply": "2021-07-06T05:29:14.596037Z",
     "shell.execute_reply.started": "2021-07-06T04:01:40.075056Z"
    },
    "papermill": {
     "duration": 0.075786,
     "end_time": "2021-07-06T05:29:14.596201",
     "exception": false,
     "start_time": "2021-07-06T05:29:14.520415",
     "status": "completed"
    },
    "tags": []
   },
   "outputs": [
    {
     "data": {
      "text/plain": [
       "0.9186813186813186"
      ]
     },
     "execution_count": 20,
     "metadata": {},
     "output_type": "execute_result"
    }
   ],
   "source": [
    "log_clf.score(X_train,y_train)"
   ]
  },
  {
   "cell_type": "markdown",
   "id": "approved-somewhere",
   "metadata": {
    "papermill": {
     "duration": 0.067584,
     "end_time": "2021-07-06T05:29:14.729962",
     "exception": false,
     "start_time": "2021-07-06T05:29:14.662378",
     "status": "completed"
    },
    "tags": []
   },
   "source": [
    "## SVC"
   ]
  },
  {
   "cell_type": "code",
   "execution_count": 21,
   "id": "mobile-philadelphia",
   "metadata": {
    "execution": {
     "iopub.execute_input": "2021-07-06T05:29:14.867407Z",
     "iopub.status.busy": "2021-07-06T05:29:14.866603Z",
     "iopub.status.idle": "2021-07-06T05:29:14.871543Z",
     "shell.execute_reply": "2021-07-06T05:29:14.872055Z",
     "shell.execute_reply.started": "2021-07-06T04:01:40.086082Z"
    },
    "papermill": {
     "duration": 0.074823,
     "end_time": "2021-07-06T05:29:14.872240",
     "exception": false,
     "start_time": "2021-07-06T05:29:14.797417",
     "status": "completed"
    },
    "tags": []
   },
   "outputs": [],
   "source": [
    "from sklearn.svm import SVC\n",
    "\n",
    "param_grid = {'C': [0.1, 1, 10, 100, 1000], \n",
    "              'gamma': [1, 0.1, 0.01, 0.001, 0.0001],\n",
    "              'kernel': ['rbf']} \n",
    "grid=GridSearchCV(SVC(),param_grid)"
   ]
  },
  {
   "cell_type": "code",
   "execution_count": 22,
   "id": "solved-property",
   "metadata": {
    "execution": {
     "iopub.execute_input": "2021-07-06T05:29:15.007521Z",
     "iopub.status.busy": "2021-07-06T05:29:15.006755Z",
     "iopub.status.idle": "2021-07-06T05:29:15.810288Z",
     "shell.execute_reply": "2021-07-06T05:29:15.809660Z",
     "shell.execute_reply.started": "2021-07-06T04:01:40.095953Z"
    },
    "papermill": {
     "duration": 0.87221,
     "end_time": "2021-07-06T05:29:15.810424",
     "exception": false,
     "start_time": "2021-07-06T05:29:14.938214",
     "status": "completed"
    },
    "tags": []
   },
   "outputs": [
    {
     "data": {
      "text/plain": [
       "GridSearchCV(estimator=SVC(),\n",
       "             param_grid={'C': [0.1, 1, 10, 100, 1000],\n",
       "                         'gamma': [1, 0.1, 0.01, 0.001, 0.0001],\n",
       "                         'kernel': ['rbf']})"
      ]
     },
     "execution_count": 22,
     "metadata": {},
     "output_type": "execute_result"
    }
   ],
   "source": [
    "grid.fit(X_train,y_train)"
   ]
  },
  {
   "cell_type": "code",
   "execution_count": 23,
   "id": "multiple-surface",
   "metadata": {
    "execution": {
     "iopub.execute_input": "2021-07-06T05:29:15.949339Z",
     "iopub.status.busy": "2021-07-06T05:29:15.948697Z",
     "iopub.status.idle": "2021-07-06T05:29:15.951241Z",
     "shell.execute_reply": "2021-07-06T05:29:15.951728Z",
     "shell.execute_reply.started": "2021-07-06T04:01:40.885568Z"
    },
    "papermill": {
     "duration": 0.074708,
     "end_time": "2021-07-06T05:29:15.951890",
     "exception": false,
     "start_time": "2021-07-06T05:29:15.877182",
     "status": "completed"
    },
    "tags": []
   },
   "outputs": [
    {
     "data": {
      "text/plain": [
       "{'C': 100, 'gamma': 0.1, 'kernel': 'rbf'}"
      ]
     },
     "execution_count": 23,
     "metadata": {},
     "output_type": "execute_result"
    }
   ],
   "source": [
    "grid.best_params_"
   ]
  },
  {
   "cell_type": "code",
   "execution_count": 24,
   "id": "pleasant-contrast",
   "metadata": {
    "execution": {
     "iopub.execute_input": "2021-07-06T05:29:16.089904Z",
     "iopub.status.busy": "2021-07-06T05:29:16.089226Z",
     "iopub.status.idle": "2021-07-06T05:29:16.092554Z",
     "shell.execute_reply": "2021-07-06T05:29:16.092042Z",
     "shell.execute_reply.started": "2021-07-06T04:01:40.896088Z"
    },
    "papermill": {
     "duration": 0.074814,
     "end_time": "2021-07-06T05:29:16.092697",
     "exception": false,
     "start_time": "2021-07-06T05:29:16.017883",
     "status": "completed"
    },
    "tags": []
   },
   "outputs": [],
   "source": [
    "svc=SVC(**grid.best_params_)"
   ]
  },
  {
   "cell_type": "code",
   "execution_count": 25,
   "id": "becoming-providence",
   "metadata": {
    "execution": {
     "iopub.execute_input": "2021-07-06T05:29:16.232372Z",
     "iopub.status.busy": "2021-07-06T05:29:16.231710Z",
     "iopub.status.idle": "2021-07-06T05:29:16.240111Z",
     "shell.execute_reply": "2021-07-06T05:29:16.240636Z",
     "shell.execute_reply.started": "2021-07-06T04:01:40.906294Z"
    },
    "papermill": {
     "duration": 0.081064,
     "end_time": "2021-07-06T05:29:16.240809",
     "exception": false,
     "start_time": "2021-07-06T05:29:16.159745",
     "status": "completed"
    },
    "tags": []
   },
   "outputs": [
    {
     "data": {
      "text/plain": [
       "SVC(C=100, gamma=0.1)"
      ]
     },
     "execution_count": 25,
     "metadata": {},
     "output_type": "execute_result"
    }
   ],
   "source": [
    "svc.fit(X_train,y_train)"
   ]
  },
  {
   "cell_type": "code",
   "execution_count": 26,
   "id": "developed-hepatitis",
   "metadata": {
    "execution": {
     "iopub.execute_input": "2021-07-06T05:29:16.383390Z",
     "iopub.status.busy": "2021-07-06T05:29:16.382700Z",
     "iopub.status.idle": "2021-07-06T05:29:16.391079Z",
     "shell.execute_reply": "2021-07-06T05:29:16.390562Z",
     "shell.execute_reply.started": "2021-07-06T04:01:40.923736Z"
    },
    "papermill": {
     "duration": 0.082071,
     "end_time": "2021-07-06T05:29:16.391223",
     "exception": false,
     "start_time": "2021-07-06T05:29:16.309152",
     "status": "completed"
    },
    "tags": []
   },
   "outputs": [
    {
     "data": {
      "text/plain": [
       "0.9406593406593406"
      ]
     },
     "execution_count": 26,
     "metadata": {},
     "output_type": "execute_result"
    }
   ],
   "source": [
    "svc.score(X_train,y_train)"
   ]
  },
  {
   "cell_type": "code",
   "execution_count": 27,
   "id": "domestic-lotus",
   "metadata": {
    "execution": {
     "iopub.execute_input": "2021-07-06T05:29:16.534526Z",
     "iopub.status.busy": "2021-07-06T05:29:16.533511Z",
     "iopub.status.idle": "2021-07-06T05:29:16.539309Z",
     "shell.execute_reply": "2021-07-06T05:29:16.539868Z",
     "shell.execute_reply.started": "2021-07-06T04:01:40.934944Z"
    },
    "papermill": {
     "duration": 0.081085,
     "end_time": "2021-07-06T05:29:16.540035",
     "exception": false,
     "start_time": "2021-07-06T05:29:16.458950",
     "status": "completed"
    },
    "scrolled": true,
    "tags": []
   },
   "outputs": [
    {
     "data": {
      "text/plain": [
       "0.9298245614035088"
      ]
     },
     "execution_count": 27,
     "metadata": {},
     "output_type": "execute_result"
    }
   ],
   "source": [
    "svc.score(X_test,y_test)"
   ]
  },
  {
   "cell_type": "code",
   "execution_count": 28,
   "id": "executed-aquatic",
   "metadata": {
    "execution": {
     "iopub.execute_input": "2021-07-06T05:29:16.681421Z",
     "iopub.status.busy": "2021-07-06T05:29:16.680381Z",
     "iopub.status.idle": "2021-07-06T05:29:16.690144Z",
     "shell.execute_reply": "2021-07-06T05:29:16.689605Z",
     "shell.execute_reply.started": "2021-07-06T04:01:40.946513Z"
    },
    "papermill": {
     "duration": 0.083139,
     "end_time": "2021-07-06T05:29:16.690297",
     "exception": false,
     "start_time": "2021-07-06T05:29:16.607158",
     "status": "completed"
    },
    "tags": []
   },
   "outputs": [
    {
     "data": {
      "text/plain": [
       "array([[41,  6],\n",
       "       [ 2, 65]])"
      ]
     },
     "execution_count": 28,
     "metadata": {},
     "output_type": "execute_result"
    }
   ],
   "source": [
    "from sklearn.metrics import confusion_matrix, plot_confusion_matrix\n",
    "y_pred=svc.predict(X_test)\n",
    "cm_svc = confusion_matrix(y_test, y_pred)\n",
    "cm_svc"
   ]
  },
  {
   "cell_type": "code",
   "execution_count": 29,
   "id": "sexual-version",
   "metadata": {
    "execution": {
     "iopub.execute_input": "2021-07-06T05:29:16.838418Z",
     "iopub.status.busy": "2021-07-06T05:29:16.837744Z",
     "iopub.status.idle": "2021-07-06T05:29:17.028497Z",
     "shell.execute_reply": "2021-07-06T05:29:17.027965Z",
     "shell.execute_reply.started": "2021-07-06T04:01:40.957905Z"
    },
    "papermill": {
     "duration": 0.264316,
     "end_time": "2021-07-06T05:29:17.028644",
     "exception": false,
     "start_time": "2021-07-06T05:29:16.764328",
     "status": "completed"
    },
    "tags": []
   },
   "outputs": [
    {
     "data": {
      "text/plain": [
       "<sklearn.metrics._plot.confusion_matrix.ConfusionMatrixDisplay at 0x7f22c8178310>"
      ]
     },
     "execution_count": 29,
     "metadata": {},
     "output_type": "execute_result"
    },
    {
     "data": {
      "image/png": "[encoded data removed]",
      "text/plain": [
       "<Figure size 432x288 with 2 Axes>"
      ]
     },
     "metadata": {
      "needs_background": "light"
     },
     "output_type": "display_data"
    }
   ],
   "source": [
    "plot_confusion_matrix(svc,X_test,y_test)"
   ]
  },
  {
   "cell_type": "code",
   "execution_count": 30,
   "id": "floppy-rough",
   "metadata": {
    "execution": {
     "iopub.execute_input": "2021-07-06T05:29:17.174615Z",
     "iopub.status.busy": "2021-07-06T05:29:17.173937Z",
     "iopub.status.idle": "2021-07-06T05:29:17.182893Z",
     "shell.execute_reply": "2021-07-06T05:29:17.182288Z",
     "shell.execute_reply.started": "2021-07-06T04:01:41.114086Z"
    },
    "papermill": {
     "duration": 0.084156,
     "end_time": "2021-07-06T05:29:17.183034",
     "exception": false,
     "start_time": "2021-07-06T05:29:17.098878",
     "status": "completed"
    },
    "tags": []
   },
   "outputs": [
    {
     "name": "stdout",
     "output_type": "stream",
     "text": [
      "              precision    recall  f1-score   support\n",
      "\n",
      "           0       0.95      0.87      0.91        47\n",
      "           1       0.92      0.97      0.94        67\n",
      "\n",
      "    accuracy                           0.93       114\n",
      "   macro avg       0.93      0.92      0.93       114\n",
      "weighted avg       0.93      0.93      0.93       114\n",
      "\n"
     ]
    }
   ],
   "source": [
    "from sklearn.metrics import classification_report\n",
    "print(classification_report(y_test, y_pred))"
   ]
  },
  {
   "cell_type": "code",
   "execution_count": 31,
   "id": "underlying-ordinary",
   "metadata": {
    "execution": {
     "iopub.execute_input": "2021-07-06T05:29:17.347851Z",
     "iopub.status.busy": "2021-07-06T05:29:17.346530Z",
     "iopub.status.idle": "2021-07-06T05:29:17.652231Z",
     "shell.execute_reply": "2021-07-06T05:29:17.651697Z",
     "shell.execute_reply.started": "2021-07-06T04:01:41.158777Z"
    },
    "papermill": {
     "duration": 0.398021,
     "end_time": "2021-07-06T05:29:17.652369",
     "exception": false,
     "start_time": "2021-07-06T05:29:17.254348",
     "status": "completed"
    },
    "tags": []
   },
   "outputs": [
    {
     "data": {
      "image/png": "[encoded data removed]",
      "text/plain": [
       "<Figure size 648x648 with 1 Axes>"
      ]
     },
     "metadata": {
      "needs_background": "light"
     },
     "output_type": "display_data"
    }
   ],
   "source": [
    "from mpl_toolkits.mplot3d import Axes3D\n",
    "fig = plt.figure()\n",
    "fig.set_size_inches(9, 9)\n",
    "tmp = np.linspace(-5,5,30)\n",
    "x,y = np.meshgrid(tmp,tmp)\n",
    "ax = fig.add_subplot(111, projection='3d')\n",
    "ax.scatter(X_train[:,0][y_train==0], X_train[:,1][y_train==0],X_train[:,2][y_train==0],'ob')\n",
    "ax.scatter(X_train[:,0][y_train==1], X_train[:,1][y_train==1],X_train[:,2][y_train==1],'sr')\n",
    "ax.set_xlabel(f\"{x_train.columns[0]}\")\n",
    "ax.set_ylabel(f\"{x_train.columns[1]}\")\n",
    "ax.set_zlabel(f\"{x_train.columns[2]}\")\n",
    "ax.view_init(30, 60)\n",
    "plt.show()"
   ]
  },
  {
   "cell_type": "markdown",
   "id": "divided-policy",
   "metadata": {
    "papermill": {
     "duration": 0.073724,
     "end_time": "2021-07-06T05:29:17.800370",
     "exception": false,
     "start_time": "2021-07-06T05:29:17.726646",
     "status": "completed"
    },
    "tags": []
   },
   "source": [
    "## Random Forest"
   ]
  },
  {
   "cell_type": "code",
   "execution_count": 32,
   "id": "sensitive-simulation",
   "metadata": {
    "execution": {
     "iopub.execute_input": "2021-07-06T05:29:17.950833Z",
     "iopub.status.busy": "2021-07-06T05:29:17.950108Z",
     "iopub.status.idle": "2021-07-06T05:29:18.124104Z",
     "shell.execute_reply": "2021-07-06T05:29:18.123405Z",
     "shell.execute_reply.started": "2021-07-06T04:01:41.420753Z"
    },
    "papermill": {
     "duration": 0.250789,
     "end_time": "2021-07-06T05:29:18.124246",
     "exception": false,
     "start_time": "2021-07-06T05:29:17.873457",
     "status": "completed"
    },
    "tags": []
   },
   "outputs": [],
   "source": [
    "from sklearn.ensemble import RandomForestClassifier\n",
    "rf= RandomForestClassifier()"
   ]
  },
  {
   "cell_type": "code",
   "execution_count": 33,
   "id": "surprising-intelligence",
   "metadata": {
    "execution": {
     "iopub.execute_input": "2021-07-06T05:29:18.281447Z",
     "iopub.status.busy": "2021-07-06T05:29:18.280442Z",
     "iopub.status.idle": "2021-07-06T05:29:18.283662Z",
     "shell.execute_reply": "2021-07-06T05:29:18.283105Z",
     "shell.execute_reply.started": "2021-07-06T04:01:41.557347Z"
    },
    "papermill": {
     "duration": 0.082242,
     "end_time": "2021-07-06T05:29:18.283808",
     "exception": false,
     "start_time": "2021-07-06T05:29:18.201566",
     "status": "completed"
    },
    "tags": []
   },
   "outputs": [],
   "source": [
    "param_grid = { \n",
    "    'n_estimators': [50,100,200,500],\n",
    "    'max_features': ['auto', 'sqrt', 'log2'],\n",
    "    'max_depth' : [2,3,4,5,6,7,8],\n",
    "    'criterion' :['gini', 'entropy']\n",
    "}"
   ]
  },
  {
   "cell_type": "code",
   "execution_count": 34,
   "id": "similar-smoke",
   "metadata": {
    "execution": {
     "iopub.execute_input": "2021-07-06T05:29:18.442668Z",
     "iopub.status.busy": "2021-07-06T05:29:18.441936Z",
     "iopub.status.idle": "2021-07-06T05:29:18.444491Z",
     "shell.execute_reply": "2021-07-06T05:29:18.444948Z",
     "shell.execute_reply.started": "2021-07-06T04:01:41.563631Z"
    },
    "papermill": {
     "duration": 0.082933,
     "end_time": "2021-07-06T05:29:18.445123",
     "exception": false,
     "start_time": "2021-07-06T05:29:18.362190",
     "status": "completed"
    },
    "tags": []
   },
   "outputs": [],
   "source": [
    "grid_rf=GridSearchCV(rf,param_grid)"
   ]
  },
  {
   "cell_type": "code",
   "execution_count": 35,
   "id": "wireless-amendment",
   "metadata": {
    "execution": {
     "iopub.execute_input": "2021-07-06T05:29:18.594284Z",
     "iopub.status.busy": "2021-07-06T05:29:18.593294Z",
     "iopub.status.idle": "2021-07-06T05:35:23.780812Z",
     "shell.execute_reply": "2021-07-06T05:35:23.781336Z",
     "shell.execute_reply.started": "2021-07-06T04:01:41.575158Z"
    },
    "papermill": {
     "duration": 365.263854,
     "end_time": "2021-07-06T05:35:23.781535",
     "exception": false,
     "start_time": "2021-07-06T05:29:18.517681",
     "status": "completed"
    },
    "tags": []
   },
   "outputs": [
    {
     "data": {
      "text/plain": [
       "GridSearchCV(estimator=RandomForestClassifier(),\n",
       "             param_grid={'criterion': ['gini', 'entropy'],\n",
       "                         'max_depth': [2, 3, 4, 5, 6, 7, 8],\n",
       "                         'max_features': ['auto', 'sqrt', 'log2'],\n",
       "                         'n_estimators': [50, 100, 200, 500]})"
      ]
     },
     "execution_count": 35,
     "metadata": {},
     "output_type": "execute_result"
    }
   ],
   "source": [
    "grid_rf.fit(X_train,y_train)"
   ]
  },
  {
   "cell_type": "code",
   "execution_count": 36,
   "id": "reliable-davis",
   "metadata": {
    "execution": {
     "iopub.execute_input": "2021-07-06T05:35:23.933151Z",
     "iopub.status.busy": "2021-07-06T05:35:23.932378Z",
     "iopub.status.idle": "2021-07-06T05:35:23.936266Z",
     "shell.execute_reply": "2021-07-06T05:35:23.936787Z",
     "shell.execute_reply.started": "2021-07-06T04:05:53.598700Z"
    },
    "papermill": {
     "duration": 0.082628,
     "end_time": "2021-07-06T05:35:23.936953",
     "exception": false,
     "start_time": "2021-07-06T05:35:23.854325",
     "status": "completed"
    },
    "tags": []
   },
   "outputs": [
    {
     "data": {
      "text/plain": [
       "{'criterion': 'gini',\n",
       " 'max_depth': 8,\n",
       " 'max_features': 'log2',\n",
       " 'n_estimators': 50}"
      ]
     },
     "execution_count": 36,
     "metadata": {},
     "output_type": "execute_result"
    }
   ],
   "source": [
    "grid_rf.best_params_"
   ]
  },
  {
   "cell_type": "code",
   "execution_count": 37,
   "id": "falling-carpet",
   "metadata": {
    "execution": {
     "iopub.execute_input": "2021-07-06T05:35:24.089408Z",
     "iopub.status.busy": "2021-07-06T05:35:24.088766Z",
     "iopub.status.idle": "2021-07-06T05:35:24.091859Z",
     "shell.execute_reply": "2021-07-06T05:35:24.091113Z",
     "shell.execute_reply.started": "2021-07-06T04:05:53.607435Z"
    },
    "papermill": {
     "duration": 0.082099,
     "end_time": "2021-07-06T05:35:24.092038",
     "exception": false,
     "start_time": "2021-07-06T05:35:24.009939",
     "status": "completed"
    },
    "tags": []
   },
   "outputs": [],
   "source": [
    "rf=RandomForestClassifier(**grid_rf.best_params_)"
   ]
  },
  {
   "cell_type": "code",
   "execution_count": 38,
   "id": "cathedral-problem",
   "metadata": {
    "execution": {
     "iopub.execute_input": "2021-07-06T05:35:24.265968Z",
     "iopub.status.busy": "2021-07-06T05:35:24.255621Z",
     "iopub.status.idle": "2021-07-06T05:35:24.353095Z",
     "shell.execute_reply": "2021-07-06T05:35:24.352219Z",
     "shell.execute_reply.started": "2021-07-06T04:05:53.619981Z"
    },
    "papermill": {
     "duration": 0.186315,
     "end_time": "2021-07-06T05:35:24.353257",
     "exception": false,
     "start_time": "2021-07-06T05:35:24.166942",
     "status": "completed"
    },
    "tags": []
   },
   "outputs": [
    {
     "data": {
      "text/plain": [
       "RandomForestClassifier(max_depth=8, max_features='log2', n_estimators=50)"
      ]
     },
     "execution_count": 38,
     "metadata": {},
     "output_type": "execute_result"
    }
   ],
   "source": [
    "rf.fit(X_train,y_train)"
   ]
  },
  {
   "cell_type": "code",
   "execution_count": 39,
   "id": "anticipated-cameroon",
   "metadata": {
    "execution": {
     "iopub.execute_input": "2021-07-06T05:35:24.508117Z",
     "iopub.status.busy": "2021-07-06T05:35:24.507074Z",
     "iopub.status.idle": "2021-07-06T05:35:24.520762Z",
     "shell.execute_reply": "2021-07-06T05:35:24.520104Z",
     "shell.execute_reply.started": "2021-07-06T04:05:53.766450Z"
    },
    "papermill": {
     "duration": 0.0924,
     "end_time": "2021-07-06T05:35:24.520904",
     "exception": false,
     "start_time": "2021-07-06T05:35:24.428504",
     "status": "completed"
    },
    "tags": []
   },
   "outputs": [
    {
     "data": {
      "text/plain": [
       "0.9978021978021978"
      ]
     },
     "execution_count": 39,
     "metadata": {},
     "output_type": "execute_result"
    }
   ],
   "source": [
    "rf.score(X_train,y_train)"
   ]
  },
  {
   "cell_type": "code",
   "execution_count": 40,
   "id": "accompanied-active",
   "metadata": {
    "execution": {
     "iopub.execute_input": "2021-07-06T05:35:24.677622Z",
     "iopub.status.busy": "2021-07-06T05:35:24.676943Z",
     "iopub.status.idle": "2021-07-06T05:35:24.687033Z",
     "shell.execute_reply": "2021-07-06T05:35:24.686497Z",
     "shell.execute_reply.started": "2021-07-06T04:05:53.786994Z"
    },
    "papermill": {
     "duration": 0.092594,
     "end_time": "2021-07-06T05:35:24.687182",
     "exception": false,
     "start_time": "2021-07-06T05:35:24.594588",
     "status": "completed"
    },
    "tags": []
   },
   "outputs": [
    {
     "data": {
      "text/plain": [
       "0.9122807017543859"
      ]
     },
     "execution_count": 40,
     "metadata": {},
     "output_type": "execute_result"
    }
   ],
   "source": [
    "rf.score(X_test,y_test)"
   ]
  },
  {
   "cell_type": "code",
   "execution_count": 41,
   "id": "virtual-hunter",
   "metadata": {
    "execution": {
     "iopub.execute_input": "2021-07-06T05:35:24.844259Z",
     "iopub.status.busy": "2021-07-06T05:35:24.843624Z",
     "iopub.status.idle": "2021-07-06T05:35:24.854678Z",
     "shell.execute_reply": "2021-07-06T05:35:24.854097Z",
     "shell.execute_reply.started": "2021-07-06T04:05:53.805064Z"
    },
    "papermill": {
     "duration": 0.093233,
     "end_time": "2021-07-06T05:35:24.854822",
     "exception": false,
     "start_time": "2021-07-06T05:35:24.761589",
     "status": "completed"
    },
    "tags": []
   },
   "outputs": [
    {
     "data": {
      "text/plain": [
       "array([[45,  2],\n",
       "       [ 8, 59]])"
      ]
     },
     "execution_count": 41,
     "metadata": {},
     "output_type": "execute_result"
    }
   ],
   "source": [
    "y_pred=rf.predict(X_test)\n",
    "cm_rf = confusion_matrix(y_test, y_pred)\n",
    "cm_rf"
   ]
  },
  {
   "cell_type": "code",
   "execution_count": 42,
   "id": "seven-martial",
   "metadata": {
    "execution": {
     "iopub.execute_input": "2021-07-06T05:35:25.010069Z",
     "iopub.status.busy": "2021-07-06T05:35:25.009354Z",
     "iopub.status.idle": "2021-07-06T05:35:25.197979Z",
     "shell.execute_reply": "2021-07-06T05:35:25.198498Z",
     "shell.execute_reply.started": "2021-07-06T04:05:53.824163Z"
    },
    "papermill": {
     "duration": 0.26817,
     "end_time": "2021-07-06T05:35:25.198671",
     "exception": false,
     "start_time": "2021-07-06T05:35:24.930501",
     "status": "completed"
    },
    "tags": []
   },
   "outputs": [
    {
     "data": {
      "text/plain": [
       "<sklearn.metrics._plot.confusion_matrix.ConfusionMatrixDisplay at 0x7f22c1f35e10>"
      ]
     },
     "execution_count": 42,
     "metadata": {},
     "output_type": "execute_result"
    },
    {
     "data": {
      "image/png": "[encoded data removed]",
      "text/plain": [
       "<Figure size 432x288 with 2 Axes>"
      ]
     },
     "metadata": {
      "needs_background": "light"
     },
     "output_type": "display_data"
    }
   ],
   "source": [
    "plot_confusion_matrix(rf,X_test,y_test)"
   ]
  },
  {
   "cell_type": "code",
   "execution_count": 43,
   "id": "ready-message",
   "metadata": {
    "execution": {
     "iopub.execute_input": "2021-07-06T05:35:25.364562Z",
     "iopub.status.busy": "2021-07-06T05:35:25.363535Z",
     "iopub.status.idle": "2021-07-06T05:35:25.376663Z",
     "shell.execute_reply": "2021-07-06T05:35:25.377588Z",
     "shell.execute_reply.started": "2021-07-06T04:05:53.979937Z"
    },
    "papermill": {
     "duration": 0.10315,
     "end_time": "2021-07-06T05:35:25.377851",
     "exception": false,
     "start_time": "2021-07-06T05:35:25.274701",
     "status": "completed"
    },
    "tags": []
   },
   "outputs": [
    {
     "name": "stdout",
     "output_type": "stream",
     "text": [
      "              precision    recall  f1-score   support\n",
      "\n",
      "           0       0.85      0.96      0.90        47\n",
      "           1       0.97      0.88      0.92        67\n",
      "\n",
      "    accuracy                           0.91       114\n",
      "   macro avg       0.91      0.92      0.91       114\n",
      "weighted avg       0.92      0.91      0.91       114\n",
      "\n"
     ]
    }
   ],
   "source": [
    "print(classification_report(y_test, y_pred))"
   ]
  },
  {
   "cell_type": "markdown",
   "id": "robust-metallic",
   "metadata": {
    "papermill": {
     "duration": 0.080601,
     "end_time": "2021-07-06T05:35:25.554059",
     "exception": false,
     "start_time": "2021-07-06T05:35:25.473458",
     "status": "completed"
    },
    "tags": []
   },
   "source": [
    "## GradientBoostingClassifier"
   ]
  },
  {
   "cell_type": "code",
   "execution_count": 44,
   "id": "hybrid-monster",
   "metadata": {
    "execution": {
     "iopub.execute_input": "2021-07-06T05:35:25.728792Z",
     "iopub.status.busy": "2021-07-06T05:35:25.727351Z",
     "iopub.status.idle": "2021-07-06T05:35:25.731901Z",
     "shell.execute_reply": "2021-07-06T05:35:25.732525Z",
     "shell.execute_reply.started": "2021-07-06T04:05:53.991540Z"
    },
    "papermill": {
     "duration": 0.091298,
     "end_time": "2021-07-06T05:35:25.732702",
     "exception": false,
     "start_time": "2021-07-06T05:35:25.641404",
     "status": "completed"
    },
    "tags": []
   },
   "outputs": [],
   "source": [
    "from sklearn.ensemble import GradientBoostingClassifier\n",
    "\n",
    "GBC=GradientBoostingClassifier()"
   ]
  },
  {
   "cell_type": "code",
   "execution_count": 45,
   "id": "living-equipment",
   "metadata": {
    "execution": {
     "iopub.execute_input": "2021-07-06T05:35:25.893923Z",
     "iopub.status.busy": "2021-07-06T05:35:25.893249Z",
     "iopub.status.idle": "2021-07-06T05:35:26.005280Z",
     "shell.execute_reply": "2021-07-06T05:35:26.004328Z",
     "shell.execute_reply.started": "2021-07-06T04:05:53.997347Z"
    },
    "papermill": {
     "duration": 0.192732,
     "end_time": "2021-07-06T05:35:26.005462",
     "exception": false,
     "start_time": "2021-07-06T05:35:25.812730",
     "status": "completed"
    },
    "tags": []
   },
   "outputs": [
    {
     "data": {
      "text/plain": [
       "GradientBoostingClassifier()"
      ]
     },
     "execution_count": 45,
     "metadata": {},
     "output_type": "execute_result"
    }
   ],
   "source": [
    "GBC.fit(X_train,y_train)"
   ]
  },
  {
   "cell_type": "code",
   "execution_count": 46,
   "id": "stretch-manitoba",
   "metadata": {
    "execution": {
     "iopub.execute_input": "2021-07-06T05:35:26.168194Z",
     "iopub.status.busy": "2021-07-06T05:35:26.167504Z",
     "iopub.status.idle": "2021-07-06T05:35:26.172425Z",
     "shell.execute_reply": "2021-07-06T05:35:26.171795Z",
     "shell.execute_reply.started": "2021-07-06T04:05:54.103630Z"
    },
    "papermill": {
     "duration": 0.089625,
     "end_time": "2021-07-06T05:35:26.172590",
     "exception": false,
     "start_time": "2021-07-06T05:35:26.082965",
     "status": "completed"
    },
    "tags": []
   },
   "outputs": [
    {
     "data": {
      "text/plain": [
       "0.9978021978021978"
      ]
     },
     "execution_count": 46,
     "metadata": {},
     "output_type": "execute_result"
    }
   ],
   "source": [
    "GBC.score(X_train,y_train)"
   ]
  },
  {
   "cell_type": "code",
   "execution_count": 47,
   "id": "criminal-vienna",
   "metadata": {
    "execution": {
     "iopub.execute_input": "2021-07-06T05:35:26.344741Z",
     "iopub.status.busy": "2021-07-06T05:35:26.343709Z",
     "iopub.status.idle": "2021-07-06T05:35:26.348446Z",
     "shell.execute_reply": "2021-07-06T05:35:26.347945Z",
     "shell.execute_reply.started": "2021-07-06T04:05:54.113967Z"
    },
    "papermill": {
     "duration": 0.09593,
     "end_time": "2021-07-06T05:35:26.348609",
     "exception": false,
     "start_time": "2021-07-06T05:35:26.252679",
     "status": "completed"
    },
    "scrolled": true,
    "tags": []
   },
   "outputs": [
    {
     "data": {
      "text/plain": [
       "0.9298245614035088"
      ]
     },
     "execution_count": 47,
     "metadata": {},
     "output_type": "execute_result"
    }
   ],
   "source": [
    "GBC.score(X_test,y_test)"
   ]
  },
  {
   "cell_type": "markdown",
   "id": "adapted-queue",
   "metadata": {
    "papermill": {
     "duration": 0.078505,
     "end_time": "2021-07-06T05:35:26.507546",
     "exception": false,
     "start_time": "2021-07-06T05:35:26.429041",
     "status": "completed"
    },
    "tags": []
   },
   "source": [
    "## HistGradientBoostingClassifier"
   ]
  },
  {
   "cell_type": "code",
   "execution_count": 48,
   "id": "imported-updating",
   "metadata": {
    "execution": {
     "iopub.execute_input": "2021-07-06T05:35:26.667918Z",
     "iopub.status.busy": "2021-07-06T05:35:26.667195Z",
     "iopub.status.idle": "2021-07-06T05:35:26.735113Z",
     "shell.execute_reply": "2021-07-06T05:35:26.734439Z",
     "shell.execute_reply.started": "2021-07-06T04:05:54.125854Z"
    },
    "papermill": {
     "duration": 0.149705,
     "end_time": "2021-07-06T05:35:26.735256",
     "exception": false,
     "start_time": "2021-07-06T05:35:26.585551",
     "status": "completed"
    },
    "tags": []
   },
   "outputs": [],
   "source": [
    "from sklearn.experimental import enable_hist_gradient_boosting\n",
    "from sklearn.ensemble import HistGradientBoostingClassifier\n",
    "HGBC=HistGradientBoostingClassifier()"
   ]
  },
  {
   "cell_type": "code",
   "execution_count": 49,
   "id": "legal-questionnaire",
   "metadata": {
    "execution": {
     "iopub.execute_input": "2021-07-06T05:35:26.895593Z",
     "iopub.status.busy": "2021-07-06T05:35:26.894819Z",
     "iopub.status.idle": "2021-07-06T05:35:27.154445Z",
     "shell.execute_reply": "2021-07-06T05:35:27.155644Z",
     "shell.execute_reply.started": "2021-07-06T04:05:54.195754Z"
    },
    "papermill": {
     "duration": 0.343884,
     "end_time": "2021-07-06T05:35:27.155891",
     "exception": false,
     "start_time": "2021-07-06T05:35:26.812007",
     "status": "completed"
    },
    "tags": []
   },
   "outputs": [
    {
     "data": {
      "text/plain": [
       "HistGradientBoostingClassifier()"
      ]
     },
     "execution_count": 49,
     "metadata": {},
     "output_type": "execute_result"
    }
   ],
   "source": [
    "HGBC.fit(X_train,y_train)"
   ]
  },
  {
   "cell_type": "code",
   "execution_count": 50,
   "id": "another-ebony",
   "metadata": {
    "execution": {
     "iopub.execute_input": "2021-07-06T05:35:27.323028Z",
     "iopub.status.busy": "2021-07-06T05:35:27.322246Z",
     "iopub.status.idle": "2021-07-06T05:35:27.334888Z",
     "shell.execute_reply": "2021-07-06T05:35:27.334256Z",
     "shell.execute_reply.started": "2021-07-06T04:05:54.401429Z"
    },
    "papermill": {
     "duration": 0.098366,
     "end_time": "2021-07-06T05:35:27.335050",
     "exception": false,
     "start_time": "2021-07-06T05:35:27.236684",
     "status": "completed"
    },
    "tags": []
   },
   "outputs": [
    {
     "data": {
      "text/plain": [
       "1.0"
      ]
     },
     "execution_count": 50,
     "metadata": {},
     "output_type": "execute_result"
    }
   ],
   "source": [
    "HGBC.score(X_train,y_train)"
   ]
  },
  {
   "cell_type": "code",
   "execution_count": 51,
   "id": "sapphire-representative",
   "metadata": {
    "execution": {
     "iopub.execute_input": "2021-07-06T05:35:27.506415Z",
     "iopub.status.busy": "2021-07-06T05:35:27.505622Z",
     "iopub.status.idle": "2021-07-06T05:35:27.516259Z",
     "shell.execute_reply": "2021-07-06T05:35:27.516823Z",
     "shell.execute_reply.started": "2021-07-06T04:05:54.417352Z"
    },
    "papermill": {
     "duration": 0.099972,
     "end_time": "2021-07-06T05:35:27.517026",
     "exception": false,
     "start_time": "2021-07-06T05:35:27.417054",
     "status": "completed"
    },
    "tags": []
   },
   "outputs": [
    {
     "data": {
      "text/plain": [
       "0.9122807017543859"
      ]
     },
     "execution_count": 51,
     "metadata": {},
     "output_type": "execute_result"
    }
   ],
   "source": [
    "HGBC.score(X_test,y_test)"
   ]
  },
  {
   "cell_type": "markdown",
   "id": "korean-million",
   "metadata": {
    "papermill": {
     "duration": 0.081091,
     "end_time": "2021-07-06T05:35:27.679856",
     "exception": false,
     "start_time": "2021-07-06T05:35:27.598765",
     "status": "completed"
    },
    "tags": []
   },
   "source": [
    "## Voting"
   ]
  },
  {
   "cell_type": "code",
   "execution_count": 52,
   "id": "exact-comparison",
   "metadata": {
    "execution": {
     "iopub.execute_input": "2021-07-06T05:35:27.845986Z",
     "iopub.status.busy": "2021-07-06T05:35:27.844865Z",
     "iopub.status.idle": "2021-07-06T05:35:29.955628Z",
     "shell.execute_reply": "2021-07-06T05:35:29.957033Z",
     "shell.execute_reply.started": "2021-07-06T04:05:54.430642Z"
    },
    "papermill": {
     "duration": 2.197822,
     "end_time": "2021-07-06T05:35:29.957276",
     "exception": false,
     "start_time": "2021-07-06T05:35:27.759454",
     "status": "completed"
    },
    "tags": []
   },
   "outputs": [
    {
     "name": "stdout",
     "output_type": "stream",
     "text": [
      "Accuracy: 0.94 (+/- 0.03) [Support Vector Machine]\n",
      "Accuracy: 0.92 (+/- 0.04) [Random Forest]\n",
      "Accuracy: 0.91 (+/- 0.03) [GBC]\n",
      "Accuracy: 0.91 (+/- 0.01) [HGBC]\n"
     ]
    }
   ],
   "source": [
    "from sklearn.ensemble import VotingClassifier\n",
    "from sklearn.model_selection import cross_val_score\n",
    "\n",
    "eclf = VotingClassifier(\n",
    "    estimators=[('svc', svc), ('rf', rf), ('GBC', GBC),('HGBC',HGBC)],\n",
    "    voting='hard')\n",
    "\n",
    "for clf_num, label in zip([svc, rf, GBC , HGBC], ['Support Vector Machine', 'Random Forest', 'GBC', 'HGBC']):\n",
    "    scores = cross_val_score(clf_num, X_train, y_train, scoring='accuracy', cv=5)\n",
    "    print(\"Accuracy: %0.2f (+/- %0.2f) [%s]\" % (scores.mean(), scores.std(), label))"
   ]
  },
  {
   "cell_type": "code",
   "execution_count": 53,
   "id": "serious-entity",
   "metadata": {
    "execution": {
     "iopub.execute_input": "2021-07-06T05:35:30.132705Z",
     "iopub.status.busy": "2021-07-06T05:35:30.131979Z",
     "iopub.status.idle": "2021-07-06T05:35:30.620126Z",
     "shell.execute_reply": "2021-07-06T05:35:30.620657Z",
     "shell.execute_reply.started": "2021-07-06T04:05:56.326722Z"
    },
    "papermill": {
     "duration": 0.577541,
     "end_time": "2021-07-06T05:35:30.620866",
     "exception": false,
     "start_time": "2021-07-06T05:35:30.043325",
     "status": "completed"
    },
    "tags": []
   },
   "outputs": [
    {
     "data": {
      "text/plain": [
       "VotingClassifier(estimators=[('svc', SVC(C=100, gamma=0.1)),\n",
       "                             ('rf',\n",
       "                              RandomForestClassifier(max_depth=8,\n",
       "                                                     max_features='log2',\n",
       "                                                     n_estimators=50)),\n",
       "                             ('GBC', GradientBoostingClassifier()),\n",
       "                             ('HGBC', HistGradientBoostingClassifier())])"
      ]
     },
     "execution_count": 53,
     "metadata": {},
     "output_type": "execute_result"
    }
   ],
   "source": [
    "eclf.fit(X_train, y_train)"
   ]
  },
  {
   "cell_type": "code",
   "execution_count": 54,
   "id": "iraqi-assignment",
   "metadata": {
    "execution": {
     "iopub.execute_input": "2021-07-06T05:35:30.788739Z",
     "iopub.status.busy": "2021-07-06T05:35:30.788051Z",
     "iopub.status.idle": "2021-07-06T05:35:30.817400Z",
     "shell.execute_reply": "2021-07-06T05:35:30.818302Z",
     "shell.execute_reply.started": "2021-07-06T04:05:56.755059Z"
    },
    "papermill": {
     "duration": 0.116665,
     "end_time": "2021-07-06T05:35:30.818517",
     "exception": false,
     "start_time": "2021-07-06T05:35:30.701852",
     "status": "completed"
    },
    "tags": []
   },
   "outputs": [
    {
     "data": {
      "text/plain": [
       "0.9978021978021978"
      ]
     },
     "execution_count": 54,
     "metadata": {},
     "output_type": "execute_result"
    }
   ],
   "source": [
    "eclf.score(X_train,y_train)"
   ]
  },
  {
   "cell_type": "code",
   "execution_count": 55,
   "id": "nervous-sodium",
   "metadata": {
    "execution": {
     "iopub.execute_input": "2021-07-06T05:35:30.984852Z",
     "iopub.status.busy": "2021-07-06T05:35:30.984006Z",
     "iopub.status.idle": "2021-07-06T05:35:31.007457Z",
     "shell.execute_reply": "2021-07-06T05:35:31.008173Z",
     "shell.execute_reply.started": "2021-07-06T04:05:56.787230Z"
    },
    "papermill": {
     "duration": 0.108439,
     "end_time": "2021-07-06T05:35:31.008376",
     "exception": false,
     "start_time": "2021-07-06T05:35:30.899937",
     "status": "completed"
    },
    "scrolled": true,
    "tags": []
   },
   "outputs": [
    {
     "data": {
      "text/plain": [
       "0.9210526315789473"
      ]
     },
     "execution_count": 55,
     "metadata": {},
     "output_type": "execute_result"
    }
   ],
   "source": [
    "eclf.score(X_test,y_test)"
   ]
  },
  {
   "cell_type": "code",
   "execution_count": 56,
   "id": "registered-linux",
   "metadata": {
    "execution": {
     "iopub.execute_input": "2021-07-06T05:35:31.180414Z",
     "iopub.status.busy": "2021-07-06T05:35:31.179276Z",
     "iopub.status.idle": "2021-07-06T05:35:31.201919Z",
     "shell.execute_reply": "2021-07-06T05:35:31.202491Z",
     "shell.execute_reply.started": "2021-07-06T04:05:56.816802Z"
    },
    "papermill": {
     "duration": 0.112096,
     "end_time": "2021-07-06T05:35:31.202685",
     "exception": false,
     "start_time": "2021-07-06T05:35:31.090589",
     "status": "completed"
    },
    "tags": []
   },
   "outputs": [
    {
     "data": {
      "text/plain": [
       "array([[44,  3],\n",
       "       [ 6, 61]])"
      ]
     },
     "execution_count": 56,
     "metadata": {},
     "output_type": "execute_result"
    }
   ],
   "source": [
    "y_pred=eclf.predict(X_test)\n",
    "cm_rf = confusion_matrix(y_test, y_pred)\n",
    "cm_rf"
   ]
  },
  {
   "cell_type": "code",
   "execution_count": 57,
   "id": "further-baseball",
   "metadata": {
    "execution": {
     "iopub.execute_input": "2021-07-06T05:35:31.381094Z",
     "iopub.status.busy": "2021-07-06T05:35:31.380409Z",
     "iopub.status.idle": "2021-07-06T05:35:31.582372Z",
     "shell.execute_reply": "2021-07-06T05:35:31.581731Z",
     "shell.execute_reply.started": "2021-07-06T04:05:56.843949Z"
    },
    "papermill": {
     "duration": 0.294531,
     "end_time": "2021-07-06T05:35:31.582540",
     "exception": false,
     "start_time": "2021-07-06T05:35:31.288009",
     "status": "completed"
    },
    "tags": []
   },
   "outputs": [
    {
     "data": {
      "text/plain": [
       "<sklearn.metrics._plot.confusion_matrix.ConfusionMatrixDisplay at 0x7f22ccd10910>"
      ]
     },
     "execution_count": 57,
     "metadata": {},
     "output_type": "execute_result"
    },
    {
     "data": {
      "image/png": "[encoded data removed]",
      "text/plain": [
       "<Figure size 432x288 with 2 Axes>"
      ]
     },
     "metadata": {
      "needs_background": "light"
     },
     "output_type": "display_data"
    }
   ],
   "source": [
    "plot_confusion_matrix(eclf,X_test,y_test)"
   ]
  },
  {
   "cell_type": "code",
   "execution_count": 58,
   "id": "literary-aspect",
   "metadata": {
    "execution": {
     "iopub.execute_input": "2021-07-06T05:35:31.755060Z",
     "iopub.status.busy": "2021-07-06T05:35:31.754409Z",
     "iopub.status.idle": "2021-07-06T05:35:31.762773Z",
     "shell.execute_reply": "2021-07-06T05:35:31.763274Z",
     "shell.execute_reply.started": "2021-07-06T04:05:57.008962Z"
    },
    "papermill": {
     "duration": 0.098332,
     "end_time": "2021-07-06T05:35:31.763439",
     "exception": false,
     "start_time": "2021-07-06T05:35:31.665107",
     "status": "completed"
    },
    "tags": []
   },
   "outputs": [
    {
     "name": "stdout",
     "output_type": "stream",
     "text": [
      "              precision    recall  f1-score   support\n",
      "\n",
      "           0       0.88      0.94      0.91        47\n",
      "           1       0.95      0.91      0.93        67\n",
      "\n",
      "    accuracy                           0.92       114\n",
      "   macro avg       0.92      0.92      0.92       114\n",
      "weighted avg       0.92      0.92      0.92       114\n",
      "\n"
     ]
    }
   ],
   "source": [
    "print(classification_report(y_test, y_pred))"
   ]
  },
  {
   "cell_type": "markdown",
   "id": "abroad-covering",
   "metadata": {
    "papermill": {
     "duration": 0.081822,
     "end_time": "2021-07-06T05:35:31.927398",
     "exception": false,
     "start_time": "2021-07-06T05:35:31.845576",
     "status": "completed"
    },
    "tags": []
   },
   "source": [
    "## Deep learning"
   ]
  },
  {
   "cell_type": "code",
   "execution_count": 59,
   "id": "intellectual-coordinator",
   "metadata": {
    "execution": {
     "iopub.execute_input": "2021-07-06T05:35:32.105115Z",
     "iopub.status.busy": "2021-07-06T05:35:32.104455Z",
     "iopub.status.idle": "2021-07-06T05:35:32.147529Z",
     "shell.execute_reply": "2021-07-06T05:35:32.146811Z",
     "shell.execute_reply.started": "2021-07-06T04:42:16.615109Z"
    },
    "papermill": {
     "duration": 0.135856,
     "end_time": "2021-07-06T05:35:32.147672",
     "exception": false,
     "start_time": "2021-07-06T05:35:32.011816",
     "status": "completed"
    },
    "tags": []
   },
   "outputs": [],
   "source": [
    "model=tf.keras.Sequential([\n",
    "    tf.keras.layers.Dense(10,activation='relu'),\n",
    "    tf.keras.layers.Dense(20,activation='relu'),\n",
    "    tf.keras.layers.Dense(1,activation='sigmoid')\n",
    "])"
   ]
  },
  {
   "cell_type": "code",
   "execution_count": 60,
   "id": "fluid-volleyball",
   "metadata": {
    "execution": {
     "iopub.execute_input": "2021-07-06T05:35:32.324124Z",
     "iopub.status.busy": "2021-07-06T05:35:32.323451Z",
     "iopub.status.idle": "2021-07-06T05:35:32.334413Z",
     "shell.execute_reply": "2021-07-06T05:35:32.333852Z",
     "shell.execute_reply.started": "2021-07-06T04:42:19.563597Z"
    },
    "papermill": {
     "duration": 0.105118,
     "end_time": "2021-07-06T05:35:32.334573",
     "exception": false,
     "start_time": "2021-07-06T05:35:32.229455",
     "status": "completed"
    },
    "tags": []
   },
   "outputs": [],
   "source": [
    "model.compile(optimizer='adam',loss='binary_crossentropy',metrics=['accuracy'])"
   ]
  },
  {
   "cell_type": "code",
   "execution_count": 61,
   "id": "seventh-theorem",
   "metadata": {
    "execution": {
     "iopub.execute_input": "2021-07-06T05:35:32.507299Z",
     "iopub.status.busy": "2021-07-06T05:35:32.506616Z",
     "iopub.status.idle": "2021-07-06T05:35:59.593047Z",
     "shell.execute_reply": "2021-07-06T05:35:59.593754Z",
     "shell.execute_reply.started": "2021-07-06T04:42:21.014755Z"
    },
    "papermill": {
     "duration": 27.174535,
     "end_time": "2021-07-06T05:35:59.593981",
     "exception": false,
     "start_time": "2021-07-06T05:35:32.419446",
     "status": "completed"
    },
    "tags": []
   },
   "outputs": [
    {
     "name": "stdout",
     "output_type": "stream",
     "text": [
      "Epoch 1/300\n",
      "15/15 [==============================] - 1s 46ms/step - loss: 0.6968 - accuracy: 0.3820 - val_loss: 0.6823 - val_accuracy: 0.7281\n",
      "Epoch 2/300\n",
      "15/15 [==============================] - 0s 6ms/step - loss: 0.6821 - accuracy: 0.7103 - val_loss: 0.6758 - val_accuracy: 0.5965\n",
      "Epoch 3/300\n",
      "15/15 [==============================] - 0s 6ms/step - loss: 0.6685 - accuracy: 0.6555 - val_loss: 0.6691 - val_accuracy: 0.5877\n",
      "Epoch 4/300\n",
      "15/15 [==============================] - 0s 6ms/step - loss: 0.6647 - accuracy: 0.6218 - val_loss: 0.6600 - val_accuracy: 0.5877\n",
      "Epoch 5/300\n",
      "15/15 [==============================] - 0s 6ms/step - loss: 0.6491 - accuracy: 0.6531 - val_loss: 0.6508 - val_accuracy: 0.5965\n",
      "Epoch 6/300\n",
      "15/15 [==============================] - 0s 6ms/step - loss: 0.6394 - accuracy: 0.6495 - val_loss: 0.6409 - val_accuracy: 0.6053\n",
      "Epoch 7/300\n",
      "15/15 [==============================] - 0s 5ms/step - loss: 0.6355 - accuracy: 0.6402 - val_loss: 0.6283 - val_accuracy: 0.7105\n",
      "Epoch 8/300\n",
      "15/15 [==============================] - 0s 5ms/step - loss: 0.6350 - accuracy: 0.6230 - val_loss: 0.6145 - val_accuracy: 0.7719\n",
      "Epoch 9/300\n",
      "15/15 [==============================] - 0s 5ms/step - loss: 0.6151 - accuracy: 0.6768 - val_loss: 0.5983 - val_accuracy: 0.7895\n",
      "Epoch 10/300\n",
      "15/15 [==============================] - 0s 5ms/step - loss: 0.5997 - accuracy: 0.7131 - val_loss: 0.5796 - val_accuracy: 0.8421\n",
      "Epoch 11/300\n",
      "15/15 [==============================] - 0s 6ms/step - loss: 0.5984 - accuracy: 0.7319 - val_loss: 0.5611 - val_accuracy: 0.8684\n",
      "Epoch 12/300\n",
      "15/15 [==============================] - 0s 6ms/step - loss: 0.5749 - accuracy: 0.7657 - val_loss: 0.5417 - val_accuracy: 0.8947\n",
      "Epoch 13/300\n",
      "15/15 [==============================] - 0s 6ms/step - loss: 0.5546 - accuracy: 0.8043 - val_loss: 0.5214 - val_accuracy: 0.8947\n",
      "Epoch 14/300\n",
      "15/15 [==============================] - 0s 6ms/step - loss: 0.5322 - accuracy: 0.8294 - val_loss: 0.4998 - val_accuracy: 0.8947\n",
      "Epoch 15/300\n",
      "15/15 [==============================] - 0s 6ms/step - loss: 0.5144 - accuracy: 0.8385 - val_loss: 0.4796 - val_accuracy: 0.8947\n",
      "Epoch 16/300\n",
      "15/15 [==============================] - 0s 6ms/step - loss: 0.4883 - accuracy: 0.8735 - val_loss: 0.4573 - val_accuracy: 0.9035\n",
      "Epoch 17/300\n",
      "15/15 [==============================] - 0s 6ms/step - loss: 0.4622 - accuracy: 0.8854 - val_loss: 0.4350 - val_accuracy: 0.9035\n",
      "Epoch 18/300\n",
      "15/15 [==============================] - 0s 6ms/step - loss: 0.4625 - accuracy: 0.8723 - val_loss: 0.4120 - val_accuracy: 0.9123\n",
      "Epoch 19/300\n",
      "15/15 [==============================] - 0s 6ms/step - loss: 0.4150 - accuracy: 0.8952 - val_loss: 0.3901 - val_accuracy: 0.9211\n",
      "Epoch 20/300\n",
      "15/15 [==============================] - 0s 6ms/step - loss: 0.4114 - accuracy: 0.8610 - val_loss: 0.3735 - val_accuracy: 0.9035\n",
      "Epoch 21/300\n",
      "15/15 [==============================] - 0s 5ms/step - loss: 0.3858 - accuracy: 0.8934 - val_loss: 0.3510 - val_accuracy: 0.9211\n",
      "Epoch 22/300\n",
      "15/15 [==============================] - 0s 6ms/step - loss: 0.3581 - accuracy: 0.8936 - val_loss: 0.3350 - val_accuracy: 0.9123\n",
      "Epoch 23/300\n",
      "15/15 [==============================] - 0s 6ms/step - loss: 0.3414 - accuracy: 0.9129 - val_loss: 0.3215 - val_accuracy: 0.9035\n",
      "Epoch 24/300\n",
      "15/15 [==============================] - 0s 6ms/step - loss: 0.3521 - accuracy: 0.9230 - val_loss: 0.3067 - val_accuracy: 0.9035\n",
      "Epoch 25/300\n",
      "15/15 [==============================] - 0s 6ms/step - loss: 0.3307 - accuracy: 0.9125 - val_loss: 0.2905 - val_accuracy: 0.9298\n",
      "Epoch 26/300\n",
      "15/15 [==============================] - 0s 6ms/step - loss: 0.3063 - accuracy: 0.9178 - val_loss: 0.2819 - val_accuracy: 0.9035\n",
      "Epoch 27/300\n",
      "15/15 [==============================] - 0s 6ms/step - loss: 0.3013 - accuracy: 0.9126 - val_loss: 0.2681 - val_accuracy: 0.9298\n",
      "Epoch 28/300\n",
      "15/15 [==============================] - 0s 6ms/step - loss: 0.2956 - accuracy: 0.9069 - val_loss: 0.2656 - val_accuracy: 0.9035\n",
      "Epoch 29/300\n",
      "15/15 [==============================] - 0s 7ms/step - loss: 0.2688 - accuracy: 0.9228 - val_loss: 0.2499 - val_accuracy: 0.9298\n",
      "Epoch 30/300\n",
      "15/15 [==============================] - 0s 6ms/step - loss: 0.2774 - accuracy: 0.9129 - val_loss: 0.2473 - val_accuracy: 0.9035\n",
      "Epoch 31/300\n",
      "15/15 [==============================] - 0s 5ms/step - loss: 0.2569 - accuracy: 0.9346 - val_loss: 0.2349 - val_accuracy: 0.9211\n",
      "Epoch 32/300\n",
      "15/15 [==============================] - 0s 5ms/step - loss: 0.2683 - accuracy: 0.9081 - val_loss: 0.2319 - val_accuracy: 0.9123\n",
      "Epoch 33/300\n",
      "15/15 [==============================] - 0s 6ms/step - loss: 0.2449 - accuracy: 0.9259 - val_loss: 0.2232 - val_accuracy: 0.9211\n",
      "Epoch 34/300\n",
      "15/15 [==============================] - 0s 6ms/step - loss: 0.2268 - accuracy: 0.9479 - val_loss: 0.2229 - val_accuracy: 0.9123\n",
      "Epoch 35/300\n",
      "15/15 [==============================] - 0s 6ms/step - loss: 0.2259 - accuracy: 0.9457 - val_loss: 0.2153 - val_accuracy: 0.9123\n",
      "Epoch 36/300\n",
      "15/15 [==============================] - 0s 6ms/step - loss: 0.2240 - accuracy: 0.9355 - val_loss: 0.2116 - val_accuracy: 0.9211\n",
      "Epoch 37/300\n",
      "15/15 [==============================] - 0s 6ms/step - loss: 0.2138 - accuracy: 0.9231 - val_loss: 0.2063 - val_accuracy: 0.9123\n",
      "Epoch 38/300\n",
      "15/15 [==============================] - 0s 6ms/step - loss: 0.2014 - accuracy: 0.9321 - val_loss: 0.2042 - val_accuracy: 0.9123\n",
      "Epoch 39/300\n",
      "15/15 [==============================] - 0s 6ms/step - loss: 0.2162 - accuracy: 0.9229 - val_loss: 0.2006 - val_accuracy: 0.9123\n",
      "Epoch 40/300\n",
      "15/15 [==============================] - 0s 6ms/step - loss: 0.1906 - accuracy: 0.9364 - val_loss: 0.1967 - val_accuracy: 0.9123\n",
      "Epoch 41/300\n",
      "15/15 [==============================] - 0s 6ms/step - loss: 0.1908 - accuracy: 0.9349 - val_loss: 0.1972 - val_accuracy: 0.9211\n",
      "Epoch 42/300\n",
      "15/15 [==============================] - 0s 6ms/step - loss: 0.2049 - accuracy: 0.9253 - val_loss: 0.1911 - val_accuracy: 0.9123\n",
      "Epoch 43/300\n",
      "15/15 [==============================] - 0s 6ms/step - loss: 0.1916 - accuracy: 0.9206 - val_loss: 0.1935 - val_accuracy: 0.9211\n",
      "Epoch 44/300\n",
      "15/15 [==============================] - 0s 6ms/step - loss: 0.1820 - accuracy: 0.9493 - val_loss: 0.1846 - val_accuracy: 0.9035\n",
      "Epoch 45/300\n",
      "15/15 [==============================] - 0s 6ms/step - loss: 0.1914 - accuracy: 0.9299 - val_loss: 0.1850 - val_accuracy: 0.9123\n",
      "Epoch 46/300\n",
      "15/15 [==============================] - 0s 6ms/step - loss: 0.1810 - accuracy: 0.9342 - val_loss: 0.1832 - val_accuracy: 0.9211\n",
      "Epoch 47/300\n",
      "15/15 [==============================] - 0s 6ms/step - loss: 0.1842 - accuracy: 0.9372 - val_loss: 0.1796 - val_accuracy: 0.9035\n",
      "Epoch 48/300\n",
      "15/15 [==============================] - 0s 5ms/step - loss: 0.1674 - accuracy: 0.9408 - val_loss: 0.1787 - val_accuracy: 0.9035\n",
      "Epoch 49/300\n",
      "15/15 [==============================] - 0s 6ms/step - loss: 0.1902 - accuracy: 0.9420 - val_loss: 0.1832 - val_accuracy: 0.9298\n",
      "Epoch 50/300\n",
      "15/15 [==============================] - 0s 6ms/step - loss: 0.1787 - accuracy: 0.9408 - val_loss: 0.1753 - val_accuracy: 0.9035\n",
      "Epoch 51/300\n",
      "15/15 [==============================] - 0s 6ms/step - loss: 0.1675 - accuracy: 0.9377 - val_loss: 0.1756 - val_accuracy: 0.9123\n",
      "Epoch 52/300\n",
      "15/15 [==============================] - 0s 6ms/step - loss: 0.1740 - accuracy: 0.9364 - val_loss: 0.1733 - val_accuracy: 0.9035\n",
      "Epoch 53/300\n",
      "15/15 [==============================] - 0s 6ms/step - loss: 0.1837 - accuracy: 0.9282 - val_loss: 0.1732 - val_accuracy: 0.9123\n",
      "Epoch 54/300\n",
      "15/15 [==============================] - 0s 6ms/step - loss: 0.1784 - accuracy: 0.9261 - val_loss: 0.1706 - val_accuracy: 0.9035\n",
      "Epoch 55/300\n",
      "15/15 [==============================] - 0s 6ms/step - loss: 0.1756 - accuracy: 0.9327 - val_loss: 0.1722 - val_accuracy: 0.9123\n",
      "Epoch 56/300\n",
      "15/15 [==============================] - 0s 6ms/step - loss: 0.1663 - accuracy: 0.9344 - val_loss: 0.1700 - val_accuracy: 0.9123\n",
      "Epoch 57/300\n",
      "15/15 [==============================] - 0s 6ms/step - loss: 0.1725 - accuracy: 0.9274 - val_loss: 0.1670 - val_accuracy: 0.9035\n",
      "Epoch 58/300\n",
      "15/15 [==============================] - 0s 6ms/step - loss: 0.1673 - accuracy: 0.9297 - val_loss: 0.1655 - val_accuracy: 0.9035\n",
      "Epoch 59/300\n",
      "15/15 [==============================] - 0s 6ms/step - loss: 0.1758 - accuracy: 0.9429 - val_loss: 0.1664 - val_accuracy: 0.9123\n",
      "Epoch 60/300\n",
      "15/15 [==============================] - 0s 6ms/step - loss: 0.1496 - accuracy: 0.9360 - val_loss: 0.1639 - val_accuracy: 0.9123\n",
      "Epoch 61/300\n",
      "15/15 [==============================] - 0s 6ms/step - loss: 0.1757 - accuracy: 0.9354 - val_loss: 0.1647 - val_accuracy: 0.9211\n",
      "Epoch 62/300\n",
      "15/15 [==============================] - 0s 6ms/step - loss: 0.1511 - accuracy: 0.9487 - val_loss: 0.1627 - val_accuracy: 0.9035\n",
      "Epoch 63/300\n",
      "15/15 [==============================] - 0s 6ms/step - loss: 0.1613 - accuracy: 0.9475 - val_loss: 0.1629 - val_accuracy: 0.9123\n",
      "Epoch 64/300\n",
      "15/15 [==============================] - 0s 6ms/step - loss: 0.1566 - accuracy: 0.9402 - val_loss: 0.1616 - val_accuracy: 0.9035\n",
      "Epoch 65/300\n",
      "15/15 [==============================] - 0s 6ms/step - loss: 0.1616 - accuracy: 0.9345 - val_loss: 0.1613 - val_accuracy: 0.9035\n",
      "Epoch 66/300\n",
      "15/15 [==============================] - 0s 5ms/step - loss: 0.1579 - accuracy: 0.9383 - val_loss: 0.1607 - val_accuracy: 0.9035\n",
      "Epoch 67/300\n",
      "15/15 [==============================] - 0s 5ms/step - loss: 0.1465 - accuracy: 0.9486 - val_loss: 0.1603 - val_accuracy: 0.9123\n",
      "Epoch 68/300\n",
      "15/15 [==============================] - 0s 6ms/step - loss: 0.1578 - accuracy: 0.9454 - val_loss: 0.1598 - val_accuracy: 0.9211\n",
      "Epoch 69/300\n",
      "15/15 [==============================] - 0s 5ms/step - loss: 0.1602 - accuracy: 0.9529 - val_loss: 0.1602 - val_accuracy: 0.9211\n",
      "Epoch 70/300\n",
      "15/15 [==============================] - 0s 6ms/step - loss: 0.1561 - accuracy: 0.9439 - val_loss: 0.1589 - val_accuracy: 0.9211\n",
      "Epoch 71/300\n",
      "15/15 [==============================] - 0s 6ms/step - loss: 0.1511 - accuracy: 0.9494 - val_loss: 0.1588 - val_accuracy: 0.9211\n",
      "Epoch 72/300\n",
      "15/15 [==============================] - 0s 5ms/step - loss: 0.1350 - accuracy: 0.9597 - val_loss: 0.1587 - val_accuracy: 0.9211\n",
      "Epoch 73/300\n",
      "15/15 [==============================] - 0s 6ms/step - loss: 0.1644 - accuracy: 0.9279 - val_loss: 0.1588 - val_accuracy: 0.9211\n",
      "Epoch 74/300\n",
      "15/15 [==============================] - 0s 6ms/step - loss: 0.1595 - accuracy: 0.9360 - val_loss: 0.1585 - val_accuracy: 0.9211\n",
      "Epoch 75/300\n",
      "15/15 [==============================] - 0s 6ms/step - loss: 0.1522 - accuracy: 0.9411 - val_loss: 0.1580 - val_accuracy: 0.9211\n",
      "Epoch 76/300\n",
      "15/15 [==============================] - 0s 6ms/step - loss: 0.1583 - accuracy: 0.9401 - val_loss: 0.1596 - val_accuracy: 0.9211\n",
      "Epoch 77/300\n",
      "15/15 [==============================] - 0s 6ms/step - loss: 0.1456 - accuracy: 0.9365 - val_loss: 0.1580 - val_accuracy: 0.9123\n",
      "Epoch 78/300\n",
      "15/15 [==============================] - 0s 6ms/step - loss: 0.1588 - accuracy: 0.9368 - val_loss: 0.1581 - val_accuracy: 0.9123\n",
      "Epoch 79/300\n",
      "15/15 [==============================] - 0s 6ms/step - loss: 0.1765 - accuracy: 0.9217 - val_loss: 0.1583 - val_accuracy: 0.9211\n",
      "Epoch 80/300\n",
      "15/15 [==============================] - 0s 5ms/step - loss: 0.1361 - accuracy: 0.9407 - val_loss: 0.1576 - val_accuracy: 0.9123\n",
      "Epoch 81/300\n",
      "15/15 [==============================] - 0s 6ms/step - loss: 0.1405 - accuracy: 0.9505 - val_loss: 0.1572 - val_accuracy: 0.9298\n",
      "Epoch 82/300\n",
      "15/15 [==============================] - 0s 6ms/step - loss: 0.1372 - accuracy: 0.9454 - val_loss: 0.1578 - val_accuracy: 0.9123\n",
      "Epoch 83/300\n",
      "15/15 [==============================] - 0s 6ms/step - loss: 0.1528 - accuracy: 0.9398 - val_loss: 0.1584 - val_accuracy: 0.9211\n",
      "Epoch 84/300\n",
      "15/15 [==============================] - 0s 7ms/step - loss: 0.1554 - accuracy: 0.9334 - val_loss: 0.1574 - val_accuracy: 0.9211\n",
      "Epoch 85/300\n",
      "15/15 [==============================] - 0s 6ms/step - loss: 0.1434 - accuracy: 0.9450 - val_loss: 0.1580 - val_accuracy: 0.9211\n",
      "Epoch 86/300\n",
      "15/15 [==============================] - 0s 6ms/step - loss: 0.1539 - accuracy: 0.9368 - val_loss: 0.1572 - val_accuracy: 0.9211\n",
      "Epoch 87/300\n",
      "15/15 [==============================] - 0s 6ms/step - loss: 0.1480 - accuracy: 0.9476 - val_loss: 0.1571 - val_accuracy: 0.9298\n",
      "Epoch 88/300\n",
      "15/15 [==============================] - 0s 6ms/step - loss: 0.1538 - accuracy: 0.9506 - val_loss: 0.1575 - val_accuracy: 0.9298\n",
      "Epoch 89/300\n",
      "15/15 [==============================] - 0s 6ms/step - loss: 0.1379 - accuracy: 0.9476 - val_loss: 0.1587 - val_accuracy: 0.9211\n",
      "Epoch 90/300\n",
      "15/15 [==============================] - 0s 5ms/step - loss: 0.1691 - accuracy: 0.9254 - val_loss: 0.1579 - val_accuracy: 0.9211\n",
      "Epoch 91/300\n",
      "15/15 [==============================] - 0s 6ms/step - loss: 0.1395 - accuracy: 0.9493 - val_loss: 0.1572 - val_accuracy: 0.9298\n",
      "Epoch 92/300\n",
      "15/15 [==============================] - 0s 6ms/step - loss: 0.1505 - accuracy: 0.9439 - val_loss: 0.1570 - val_accuracy: 0.9298\n",
      "Epoch 93/300\n",
      "15/15 [==============================] - 0s 6ms/step - loss: 0.1663 - accuracy: 0.9368 - val_loss: 0.1573 - val_accuracy: 0.9298\n",
      "Epoch 94/300\n",
      "15/15 [==============================] - 0s 6ms/step - loss: 0.1605 - accuracy: 0.9357 - val_loss: 0.1602 - val_accuracy: 0.9298\n",
      "Epoch 95/300\n",
      "15/15 [==============================] - 0s 6ms/step - loss: 0.1586 - accuracy: 0.9425 - val_loss: 0.1572 - val_accuracy: 0.9211\n",
      "Epoch 96/300\n",
      "15/15 [==============================] - 0s 6ms/step - loss: 0.1626 - accuracy: 0.9439 - val_loss: 0.1596 - val_accuracy: 0.9298\n",
      "Epoch 97/300\n",
      "15/15 [==============================] - 0s 6ms/step - loss: 0.1287 - accuracy: 0.9556 - val_loss: 0.1589 - val_accuracy: 0.9211\n",
      "Epoch 98/300\n",
      "15/15 [==============================] - 0s 6ms/step - loss: 0.1279 - accuracy: 0.9482 - val_loss: 0.1585 - val_accuracy: 0.9298\n",
      "Epoch 99/300\n",
      "15/15 [==============================] - 0s 6ms/step - loss: 0.1378 - accuracy: 0.9547 - val_loss: 0.1623 - val_accuracy: 0.9298\n",
      "Epoch 100/300\n",
      "15/15 [==============================] - 0s 6ms/step - loss: 0.1526 - accuracy: 0.9365 - val_loss: 0.1570 - val_accuracy: 0.9298\n",
      "Epoch 101/300\n",
      "15/15 [==============================] - 0s 5ms/step - loss: 0.1182 - accuracy: 0.9601 - val_loss: 0.1608 - val_accuracy: 0.9298\n",
      "Epoch 102/300\n",
      "15/15 [==============================] - 0s 6ms/step - loss: 0.1650 - accuracy: 0.9353 - val_loss: 0.1589 - val_accuracy: 0.9386\n",
      "Epoch 103/300\n",
      "15/15 [==============================] - 0s 6ms/step - loss: 0.1549 - accuracy: 0.9311 - val_loss: 0.1581 - val_accuracy: 0.9386\n",
      "Epoch 104/300\n",
      "15/15 [==============================] - 0s 6ms/step - loss: 0.1331 - accuracy: 0.9519 - val_loss: 0.1596 - val_accuracy: 0.9298\n",
      "Epoch 105/300\n",
      "15/15 [==============================] - 0s 6ms/step - loss: 0.1320 - accuracy: 0.9474 - val_loss: 0.1613 - val_accuracy: 0.9298\n",
      "Epoch 106/300\n",
      "15/15 [==============================] - 0s 6ms/step - loss: 0.1634 - accuracy: 0.9410 - val_loss: 0.1593 - val_accuracy: 0.9386\n",
      "Epoch 107/300\n",
      "15/15 [==============================] - 0s 5ms/step - loss: 0.1524 - accuracy: 0.9389 - val_loss: 0.1586 - val_accuracy: 0.9386\n",
      "Epoch 108/300\n",
      "15/15 [==============================] - 0s 6ms/step - loss: 0.1603 - accuracy: 0.9346 - val_loss: 0.1616 - val_accuracy: 0.9298\n",
      "Epoch 109/300\n",
      "15/15 [==============================] - 0s 6ms/step - loss: 0.1265 - accuracy: 0.9477 - val_loss: 0.1609 - val_accuracy: 0.9298\n",
      "Epoch 110/300\n",
      "15/15 [==============================] - 0s 6ms/step - loss: 0.1707 - accuracy: 0.9335 - val_loss: 0.1597 - val_accuracy: 0.9386\n",
      "Epoch 111/300\n",
      "15/15 [==============================] - 0s 6ms/step - loss: 0.1424 - accuracy: 0.9488 - val_loss: 0.1596 - val_accuracy: 0.9386\n",
      "Epoch 112/300\n",
      "15/15 [==============================] - 0s 6ms/step - loss: 0.1290 - accuracy: 0.9567 - val_loss: 0.1608 - val_accuracy: 0.9298\n",
      "Epoch 113/300\n",
      "15/15 [==============================] - 0s 6ms/step - loss: 0.1521 - accuracy: 0.9470 - val_loss: 0.1593 - val_accuracy: 0.9474\n",
      "Epoch 114/300\n",
      "15/15 [==============================] - 0s 5ms/step - loss: 0.1390 - accuracy: 0.9471 - val_loss: 0.1614 - val_accuracy: 0.9298\n",
      "Epoch 115/300\n",
      "15/15 [==============================] - 0s 5ms/step - loss: 0.1416 - accuracy: 0.9464 - val_loss: 0.1586 - val_accuracy: 0.9386\n",
      "Epoch 116/300\n",
      "15/15 [==============================] - 0s 5ms/step - loss: 0.1238 - accuracy: 0.9513 - val_loss: 0.1608 - val_accuracy: 0.9298\n",
      "Epoch 117/300\n",
      "15/15 [==============================] - 0s 5ms/step - loss: 0.1429 - accuracy: 0.9519 - val_loss: 0.1598 - val_accuracy: 0.9386\n",
      "Epoch 118/300\n",
      "15/15 [==============================] - 0s 5ms/step - loss: 0.1511 - accuracy: 0.9441 - val_loss: 0.1590 - val_accuracy: 0.9386\n",
      "Epoch 119/300\n",
      "15/15 [==============================] - 0s 5ms/step - loss: 0.1568 - accuracy: 0.9372 - val_loss: 0.1647 - val_accuracy: 0.9211\n",
      "Epoch 120/300\n",
      "15/15 [==============================] - 0s 6ms/step - loss: 0.1161 - accuracy: 0.9580 - val_loss: 0.1599 - val_accuracy: 0.9386\n",
      "Epoch 121/300\n",
      "15/15 [==============================] - 0s 6ms/step - loss: 0.1568 - accuracy: 0.9405 - val_loss: 0.1582 - val_accuracy: 0.9298\n",
      "Epoch 122/300\n",
      "15/15 [==============================] - 0s 6ms/step - loss: 0.1366 - accuracy: 0.9549 - val_loss: 0.1581 - val_accuracy: 0.9298\n",
      "Epoch 123/300\n",
      "15/15 [==============================] - 0s 6ms/step - loss: 0.1783 - accuracy: 0.9314 - val_loss: 0.1620 - val_accuracy: 0.9298\n",
      "Epoch 124/300\n",
      "15/15 [==============================] - 0s 6ms/step - loss: 0.1285 - accuracy: 0.9548 - val_loss: 0.1594 - val_accuracy: 0.9474\n",
      "Epoch 125/300\n",
      "15/15 [==============================] - 0s 5ms/step - loss: 0.1625 - accuracy: 0.9295 - val_loss: 0.1645 - val_accuracy: 0.9211\n",
      "Epoch 126/300\n",
      "15/15 [==============================] - 0s 5ms/step - loss: 0.1361 - accuracy: 0.9445 - val_loss: 0.1606 - val_accuracy: 0.9386\n",
      "Epoch 127/300\n",
      "15/15 [==============================] - 0s 6ms/step - loss: 0.1304 - accuracy: 0.9636 - val_loss: 0.1579 - val_accuracy: 0.9298\n",
      "Epoch 128/300\n",
      "15/15 [==============================] - 0s 6ms/step - loss: 0.1503 - accuracy: 0.9381 - val_loss: 0.1642 - val_accuracy: 0.9211\n",
      "Epoch 129/300\n",
      "15/15 [==============================] - 0s 5ms/step - loss: 0.1379 - accuracy: 0.9369 - val_loss: 0.1594 - val_accuracy: 0.9474\n",
      "Epoch 130/300\n",
      "15/15 [==============================] - 0s 6ms/step - loss: 0.1479 - accuracy: 0.9449 - val_loss: 0.1593 - val_accuracy: 0.9474\n",
      "Epoch 131/300\n",
      "15/15 [==============================] - 0s 6ms/step - loss: 0.1232 - accuracy: 0.9534 - val_loss: 0.1650 - val_accuracy: 0.9211\n",
      "Epoch 132/300\n",
      "15/15 [==============================] - 0s 6ms/step - loss: 0.1558 - accuracy: 0.9350 - val_loss: 0.1587 - val_accuracy: 0.9386\n",
      "Epoch 133/300\n",
      "15/15 [==============================] - 0s 6ms/step - loss: 0.1334 - accuracy: 0.9629 - val_loss: 0.1600 - val_accuracy: 0.9474\n",
      "Epoch 134/300\n",
      "15/15 [==============================] - 0s 6ms/step - loss: 0.1534 - accuracy: 0.9442 - val_loss: 0.1616 - val_accuracy: 0.9386\n",
      "Epoch 135/300\n",
      "15/15 [==============================] - 0s 6ms/step - loss: 0.1816 - accuracy: 0.9303 - val_loss: 0.1635 - val_accuracy: 0.9211\n",
      "Epoch 136/300\n",
      "15/15 [==============================] - 0s 6ms/step - loss: 0.1647 - accuracy: 0.9389 - val_loss: 0.1617 - val_accuracy: 0.9386\n",
      "Epoch 137/300\n",
      "15/15 [==============================] - 0s 6ms/step - loss: 0.1512 - accuracy: 0.9361 - val_loss: 0.1616 - val_accuracy: 0.9386\n",
      "Epoch 138/300\n",
      "15/15 [==============================] - 0s 6ms/step - loss: 0.1458 - accuracy: 0.9381 - val_loss: 0.1612 - val_accuracy: 0.9474\n",
      "Epoch 139/300\n",
      "15/15 [==============================] - 0s 6ms/step - loss: 0.1473 - accuracy: 0.9543 - val_loss: 0.1604 - val_accuracy: 0.9474\n",
      "Epoch 140/300\n",
      "15/15 [==============================] - 0s 6ms/step - loss: 0.1818 - accuracy: 0.9279 - val_loss: 0.1712 - val_accuracy: 0.9298\n",
      "Epoch 141/300\n",
      "15/15 [==============================] - 0s 6ms/step - loss: 0.1320 - accuracy: 0.9463 - val_loss: 0.1594 - val_accuracy: 0.9474\n",
      "Epoch 142/300\n",
      "15/15 [==============================] - 0s 6ms/step - loss: 0.1387 - accuracy: 0.9560 - val_loss: 0.1616 - val_accuracy: 0.9386\n",
      "Epoch 143/300\n",
      "15/15 [==============================] - 0s 6ms/step - loss: 0.1197 - accuracy: 0.9516 - val_loss: 0.1619 - val_accuracy: 0.9386\n",
      "Epoch 144/300\n",
      "15/15 [==============================] - 0s 6ms/step - loss: 0.1335 - accuracy: 0.9466 - val_loss: 0.1607 - val_accuracy: 0.9474\n",
      "Epoch 145/300\n",
      "15/15 [==============================] - 0s 6ms/step - loss: 0.1595 - accuracy: 0.9397 - val_loss: 0.1630 - val_accuracy: 0.9298\n",
      "Epoch 146/300\n",
      "15/15 [==============================] - 0s 6ms/step - loss: 0.1363 - accuracy: 0.9480 - val_loss: 0.1621 - val_accuracy: 0.9386\n",
      "Epoch 147/300\n",
      "15/15 [==============================] - 0s 6ms/step - loss: 0.1394 - accuracy: 0.9454 - val_loss: 0.1606 - val_accuracy: 0.9474\n",
      "Epoch 148/300\n",
      "15/15 [==============================] - 0s 6ms/step - loss: 0.1231 - accuracy: 0.9561 - val_loss: 0.1689 - val_accuracy: 0.9211\n",
      "Epoch 149/300\n",
      "15/15 [==============================] - 0s 6ms/step - loss: 0.1398 - accuracy: 0.9486 - val_loss: 0.1643 - val_accuracy: 0.9298\n",
      "Epoch 150/300\n",
      "15/15 [==============================] - 0s 6ms/step - loss: 0.1575 - accuracy: 0.9331 - val_loss: 0.1631 - val_accuracy: 0.9298\n",
      "Epoch 151/300\n",
      "15/15 [==============================] - 0s 5ms/step - loss: 0.1581 - accuracy: 0.9454 - val_loss: 0.1609 - val_accuracy: 0.9474\n",
      "Epoch 152/300\n",
      "15/15 [==============================] - 0s 6ms/step - loss: 0.1572 - accuracy: 0.9472 - val_loss: 0.1684 - val_accuracy: 0.9211\n",
      "Epoch 153/300\n",
      "15/15 [==============================] - 0s 6ms/step - loss: 0.1336 - accuracy: 0.9383 - val_loss: 0.1672 - val_accuracy: 0.9211\n",
      "Epoch 154/300\n",
      "15/15 [==============================] - 0s 5ms/step - loss: 0.1415 - accuracy: 0.9456 - val_loss: 0.1629 - val_accuracy: 0.9474\n",
      "Epoch 155/300\n",
      "15/15 [==============================] - 0s 6ms/step - loss: 0.1659 - accuracy: 0.9333 - val_loss: 0.1654 - val_accuracy: 0.9298\n",
      "Epoch 156/300\n",
      "15/15 [==============================] - 0s 6ms/step - loss: 0.1489 - accuracy: 0.9444 - val_loss: 0.1648 - val_accuracy: 0.9298\n",
      "Epoch 157/300\n",
      "15/15 [==============================] - 0s 6ms/step - loss: 0.1152 - accuracy: 0.9687 - val_loss: 0.1651 - val_accuracy: 0.9298\n",
      "Epoch 158/300\n",
      "15/15 [==============================] - 0s 6ms/step - loss: 0.1341 - accuracy: 0.9500 - val_loss: 0.1626 - val_accuracy: 0.9474\n",
      "Epoch 159/300\n",
      "15/15 [==============================] - 0s 7ms/step - loss: 0.1426 - accuracy: 0.9492 - val_loss: 0.1674 - val_accuracy: 0.9298\n",
      "Epoch 160/300\n",
      "15/15 [==============================] - 0s 7ms/step - loss: 0.1261 - accuracy: 0.9565 - val_loss: 0.1631 - val_accuracy: 0.9474\n",
      "Epoch 161/300\n",
      "15/15 [==============================] - 0s 6ms/step - loss: 0.1458 - accuracy: 0.9494 - val_loss: 0.1627 - val_accuracy: 0.9474\n",
      "Epoch 162/300\n",
      "15/15 [==============================] - 0s 6ms/step - loss: 0.1695 - accuracy: 0.9292 - val_loss: 0.1675 - val_accuracy: 0.9298\n",
      "Epoch 163/300\n",
      "15/15 [==============================] - 0s 6ms/step - loss: 0.1371 - accuracy: 0.9420 - val_loss: 0.1625 - val_accuracy: 0.9474\n",
      "Epoch 164/300\n",
      "15/15 [==============================] - 0s 6ms/step - loss: 0.1402 - accuracy: 0.9403 - val_loss: 0.1643 - val_accuracy: 0.9298\n",
      "Epoch 165/300\n",
      "15/15 [==============================] - 0s 6ms/step - loss: 0.1460 - accuracy: 0.9484 - val_loss: 0.1692 - val_accuracy: 0.9211\n",
      "Epoch 166/300\n",
      "15/15 [==============================] - 0s 6ms/step - loss: 0.1323 - accuracy: 0.9453 - val_loss: 0.1680 - val_accuracy: 0.9298\n",
      "Epoch 167/300\n",
      "15/15 [==============================] - 0s 7ms/step - loss: 0.1544 - accuracy: 0.9504 - val_loss: 0.1617 - val_accuracy: 0.9474\n",
      "Epoch 168/300\n",
      "15/15 [==============================] - 0s 6ms/step - loss: 0.1206 - accuracy: 0.9593 - val_loss: 0.1680 - val_accuracy: 0.9298\n",
      "Epoch 169/300\n",
      "15/15 [==============================] - 0s 6ms/step - loss: 0.1316 - accuracy: 0.9460 - val_loss: 0.1642 - val_accuracy: 0.9298\n",
      "Epoch 170/300\n",
      "15/15 [==============================] - 0s 6ms/step - loss: 0.1322 - accuracy: 0.9549 - val_loss: 0.1644 - val_accuracy: 0.9298\n",
      "Epoch 171/300\n",
      "15/15 [==============================] - 0s 6ms/step - loss: 0.1561 - accuracy: 0.9417 - val_loss: 0.1690 - val_accuracy: 0.9211\n",
      "Epoch 172/300\n",
      "15/15 [==============================] - 0s 6ms/step - loss: 0.1530 - accuracy: 0.9426 - val_loss: 0.1619 - val_accuracy: 0.9474\n",
      "Epoch 173/300\n",
      "15/15 [==============================] - 0s 6ms/step - loss: 0.1271 - accuracy: 0.9625 - val_loss: 0.1661 - val_accuracy: 0.9298\n",
      "Epoch 174/300\n",
      "15/15 [==============================] - 0s 6ms/step - loss: 0.1441 - accuracy: 0.9498 - val_loss: 0.1644 - val_accuracy: 0.9298\n",
      "Epoch 175/300\n",
      "15/15 [==============================] - 0s 6ms/step - loss: 0.1647 - accuracy: 0.9379 - val_loss: 0.1643 - val_accuracy: 0.9298\n",
      "Epoch 176/300\n",
      "15/15 [==============================] - 0s 6ms/step - loss: 0.1686 - accuracy: 0.9364 - val_loss: 0.1656 - val_accuracy: 0.9298\n",
      "Epoch 177/300\n",
      "15/15 [==============================] - 0s 5ms/step - loss: 0.1552 - accuracy: 0.9430 - val_loss: 0.1689 - val_accuracy: 0.9211\n",
      "Epoch 178/300\n",
      "15/15 [==============================] - 0s 6ms/step - loss: 0.1445 - accuracy: 0.9397 - val_loss: 0.1631 - val_accuracy: 0.9474\n",
      "Epoch 179/300\n",
      "15/15 [==============================] - 0s 6ms/step - loss: 0.1483 - accuracy: 0.9406 - val_loss: 0.1627 - val_accuracy: 0.9474\n",
      "Epoch 180/300\n",
      "15/15 [==============================] - 0s 6ms/step - loss: 0.1347 - accuracy: 0.9393 - val_loss: 0.1673 - val_accuracy: 0.9298\n",
      "Epoch 181/300\n",
      "15/15 [==============================] - 0s 5ms/step - loss: 0.1383 - accuracy: 0.9453 - val_loss: 0.1642 - val_accuracy: 0.9386\n",
      "Epoch 182/300\n",
      "15/15 [==============================] - 0s 6ms/step - loss: 0.1463 - accuracy: 0.9411 - val_loss: 0.1677 - val_accuracy: 0.9298\n",
      "Epoch 183/300\n",
      "15/15 [==============================] - 0s 6ms/step - loss: 0.1506 - accuracy: 0.9442 - val_loss: 0.1648 - val_accuracy: 0.9298\n",
      "Epoch 184/300\n",
      "15/15 [==============================] - 0s 6ms/step - loss: 0.1518 - accuracy: 0.9374 - val_loss: 0.1633 - val_accuracy: 0.9474\n",
      "Epoch 185/300\n",
      "15/15 [==============================] - 0s 5ms/step - loss: 0.1252 - accuracy: 0.9547 - val_loss: 0.1660 - val_accuracy: 0.9298\n",
      "Epoch 186/300\n",
      "15/15 [==============================] - 0s 5ms/step - loss: 0.1482 - accuracy: 0.9494 - val_loss: 0.1654 - val_accuracy: 0.9298\n",
      "Epoch 187/300\n",
      "15/15 [==============================] - 0s 5ms/step - loss: 0.1389 - accuracy: 0.9465 - val_loss: 0.1651 - val_accuracy: 0.9298\n",
      "Epoch 188/300\n",
      "15/15 [==============================] - 0s 6ms/step - loss: 0.1473 - accuracy: 0.9442 - val_loss: 0.1654 - val_accuracy: 0.9298\n",
      "Epoch 189/300\n",
      "15/15 [==============================] - 0s 6ms/step - loss: 0.1347 - accuracy: 0.9562 - val_loss: 0.1660 - val_accuracy: 0.9298\n",
      "Epoch 190/300\n",
      "15/15 [==============================] - 0s 5ms/step - loss: 0.1503 - accuracy: 0.9393 - val_loss: 0.1681 - val_accuracy: 0.9298\n",
      "Epoch 191/300\n",
      "15/15 [==============================] - 0s 6ms/step - loss: 0.1235 - accuracy: 0.9638 - val_loss: 0.1645 - val_accuracy: 0.9386\n",
      "Epoch 192/300\n",
      "15/15 [==============================] - 0s 6ms/step - loss: 0.1444 - accuracy: 0.9436 - val_loss: 0.1656 - val_accuracy: 0.9298\n",
      "Epoch 193/300\n",
      "15/15 [==============================] - 0s 6ms/step - loss: 0.1590 - accuracy: 0.9342 - val_loss: 0.1654 - val_accuracy: 0.9298\n",
      "Epoch 194/300\n",
      "15/15 [==============================] - 0s 6ms/step - loss: 0.1420 - accuracy: 0.9529 - val_loss: 0.1666 - val_accuracy: 0.9298\n",
      "Epoch 195/300\n",
      "15/15 [==============================] - 0s 6ms/step - loss: 0.1367 - accuracy: 0.9494 - val_loss: 0.1661 - val_accuracy: 0.9298\n",
      "Epoch 196/300\n",
      "15/15 [==============================] - 0s 6ms/step - loss: 0.1512 - accuracy: 0.9384 - val_loss: 0.1646 - val_accuracy: 0.9386\n",
      "Epoch 197/300\n",
      "15/15 [==============================] - 0s 6ms/step - loss: 0.1412 - accuracy: 0.9459 - val_loss: 0.1661 - val_accuracy: 0.9298\n",
      "Epoch 198/300\n",
      "15/15 [==============================] - 0s 6ms/step - loss: 0.1126 - accuracy: 0.9673 - val_loss: 0.1656 - val_accuracy: 0.9298\n",
      "Epoch 199/300\n",
      "15/15 [==============================] - 0s 6ms/step - loss: 0.1450 - accuracy: 0.9444 - val_loss: 0.1649 - val_accuracy: 0.9386\n",
      "Epoch 200/300\n",
      "15/15 [==============================] - 0s 6ms/step - loss: 0.1472 - accuracy: 0.9464 - val_loss: 0.1649 - val_accuracy: 0.9386\n",
      "Epoch 201/300\n",
      "15/15 [==============================] - 0s 6ms/step - loss: 0.1591 - accuracy: 0.9391 - val_loss: 0.1653 - val_accuracy: 0.9298\n",
      "Epoch 202/300\n",
      "15/15 [==============================] - 0s 6ms/step - loss: 0.1535 - accuracy: 0.9439 - val_loss: 0.1649 - val_accuracy: 0.9386\n",
      "Epoch 203/300\n",
      "15/15 [==============================] - 0s 6ms/step - loss: 0.1169 - accuracy: 0.9580 - val_loss: 0.1649 - val_accuracy: 0.9386\n",
      "Epoch 204/300\n",
      "15/15 [==============================] - 0s 6ms/step - loss: 0.1479 - accuracy: 0.9506 - val_loss: 0.1661 - val_accuracy: 0.9298\n",
      "Epoch 205/300\n",
      "15/15 [==============================] - 0s 6ms/step - loss: 0.1302 - accuracy: 0.9467 - val_loss: 0.1656 - val_accuracy: 0.9298\n",
      "Epoch 206/300\n",
      "15/15 [==============================] - 0s 6ms/step - loss: 0.1199 - accuracy: 0.9575 - val_loss: 0.1669 - val_accuracy: 0.9298\n",
      "Epoch 207/300\n",
      "15/15 [==============================] - 0s 6ms/step - loss: 0.1474 - accuracy: 0.9539 - val_loss: 0.1627 - val_accuracy: 0.9474\n",
      "Epoch 208/300\n",
      "15/15 [==============================] - 0s 6ms/step - loss: 0.1261 - accuracy: 0.9602 - val_loss: 0.1665 - val_accuracy: 0.9298\n",
      "Epoch 209/300\n",
      "15/15 [==============================] - 0s 5ms/step - loss: 0.1628 - accuracy: 0.9441 - val_loss: 0.1648 - val_accuracy: 0.9386\n",
      "Epoch 210/300\n",
      "15/15 [==============================] - 0s 6ms/step - loss: 0.1528 - accuracy: 0.9387 - val_loss: 0.1671 - val_accuracy: 0.9298\n",
      "Epoch 211/300\n",
      "15/15 [==============================] - 0s 6ms/step - loss: 0.1702 - accuracy: 0.9346 - val_loss: 0.1672 - val_accuracy: 0.9298\n",
      "Epoch 212/300\n",
      "15/15 [==============================] - 0s 6ms/step - loss: 0.1552 - accuracy: 0.9506 - val_loss: 0.1655 - val_accuracy: 0.9386\n",
      "Epoch 213/300\n",
      "15/15 [==============================] - 0s 6ms/step - loss: 0.1504 - accuracy: 0.9433 - val_loss: 0.1658 - val_accuracy: 0.9386\n",
      "Epoch 214/300\n",
      "15/15 [==============================] - 0s 6ms/step - loss: 0.1687 - accuracy: 0.9363 - val_loss: 0.1658 - val_accuracy: 0.9386\n",
      "Epoch 215/300\n",
      "15/15 [==============================] - 0s 6ms/step - loss: 0.1244 - accuracy: 0.9502 - val_loss: 0.1661 - val_accuracy: 0.9298\n",
      "Epoch 216/300\n",
      "15/15 [==============================] - 0s 6ms/step - loss: 0.1516 - accuracy: 0.9480 - val_loss: 0.1638 - val_accuracy: 0.9474\n",
      "Epoch 217/300\n",
      "15/15 [==============================] - 0s 6ms/step - loss: 0.1295 - accuracy: 0.9508 - val_loss: 0.1704 - val_accuracy: 0.9298\n",
      "Epoch 218/300\n",
      "15/15 [==============================] - 0s 6ms/step - loss: 0.1432 - accuracy: 0.9473 - val_loss: 0.1622 - val_accuracy: 0.9386\n",
      "Epoch 219/300\n",
      "15/15 [==============================] - 0s 6ms/step - loss: 0.1622 - accuracy: 0.9369 - val_loss: 0.1655 - val_accuracy: 0.9386\n",
      "Epoch 220/300\n",
      "15/15 [==============================] - 0s 6ms/step - loss: 0.1046 - accuracy: 0.9579 - val_loss: 0.1711 - val_accuracy: 0.9298\n",
      "Epoch 221/300\n",
      "15/15 [==============================] - 0s 5ms/step - loss: 0.1626 - accuracy: 0.9380 - val_loss: 0.1637 - val_accuracy: 0.9474\n",
      "Epoch 222/300\n",
      "15/15 [==============================] - 0s 6ms/step - loss: 0.1342 - accuracy: 0.9499 - val_loss: 0.1696 - val_accuracy: 0.9298\n",
      "Epoch 223/300\n",
      "15/15 [==============================] - 0s 5ms/step - loss: 0.1609 - accuracy: 0.9446 - val_loss: 0.1684 - val_accuracy: 0.9298\n",
      "Epoch 224/300\n",
      "15/15 [==============================] - 0s 5ms/step - loss: 0.1463 - accuracy: 0.9463 - val_loss: 0.1666 - val_accuracy: 0.9298\n",
      "Epoch 225/300\n",
      "15/15 [==============================] - 0s 5ms/step - loss: 0.1755 - accuracy: 0.9341 - val_loss: 0.1653 - val_accuracy: 0.9386\n",
      "Epoch 226/300\n",
      "15/15 [==============================] - 0s 5ms/step - loss: 0.1404 - accuracy: 0.9452 - val_loss: 0.1684 - val_accuracy: 0.9298\n",
      "Epoch 227/300\n",
      "15/15 [==============================] - 0s 5ms/step - loss: 0.1660 - accuracy: 0.9347 - val_loss: 0.1693 - val_accuracy: 0.9298\n",
      "Epoch 228/300\n",
      "15/15 [==============================] - 0s 6ms/step - loss: 0.1423 - accuracy: 0.9437 - val_loss: 0.1645 - val_accuracy: 0.9386\n",
      "Epoch 229/300\n",
      "15/15 [==============================] - 0s 6ms/step - loss: 0.1187 - accuracy: 0.9635 - val_loss: 0.1673 - val_accuracy: 0.9298\n",
      "Epoch 230/300\n",
      "15/15 [==============================] - 0s 5ms/step - loss: 0.1202 - accuracy: 0.9567 - val_loss: 0.1684 - val_accuracy: 0.9298\n",
      "Epoch 231/300\n",
      "15/15 [==============================] - 0s 6ms/step - loss: 0.1358 - accuracy: 0.9409 - val_loss: 0.1686 - val_accuracy: 0.9298\n",
      "Epoch 232/300\n",
      "15/15 [==============================] - 0s 6ms/step - loss: 0.1560 - accuracy: 0.9398 - val_loss: 0.1691 - val_accuracy: 0.9298\n",
      "Epoch 233/300\n",
      "15/15 [==============================] - 0s 6ms/step - loss: 0.1352 - accuracy: 0.9453 - val_loss: 0.1662 - val_accuracy: 0.9386\n",
      "Epoch 234/300\n",
      "15/15 [==============================] - 0s 6ms/step - loss: 0.1832 - accuracy: 0.9280 - val_loss: 0.1678 - val_accuracy: 0.9298\n",
      "Epoch 235/300\n",
      "15/15 [==============================] - 0s 6ms/step - loss: 0.1312 - accuracy: 0.9473 - val_loss: 0.1696 - val_accuracy: 0.9298\n",
      "Epoch 236/300\n",
      "15/15 [==============================] - 0s 6ms/step - loss: 0.1230 - accuracy: 0.9559 - val_loss: 0.1682 - val_accuracy: 0.9298\n",
      "Epoch 237/300\n",
      "15/15 [==============================] - 0s 6ms/step - loss: 0.1283 - accuracy: 0.9589 - val_loss: 0.1683 - val_accuracy: 0.9298\n",
      "Epoch 238/300\n",
      "15/15 [==============================] - 0s 6ms/step - loss: 0.1418 - accuracy: 0.9416 - val_loss: 0.1664 - val_accuracy: 0.9386\n",
      "Epoch 239/300\n",
      "15/15 [==============================] - 0s 6ms/step - loss: 0.1259 - accuracy: 0.9565 - val_loss: 0.1675 - val_accuracy: 0.9298\n",
      "Epoch 240/300\n",
      "15/15 [==============================] - 0s 6ms/step - loss: 0.1167 - accuracy: 0.9548 - val_loss: 0.1703 - val_accuracy: 0.9298\n",
      "Epoch 241/300\n",
      "15/15 [==============================] - 0s 6ms/step - loss: 0.1767 - accuracy: 0.9441 - val_loss: 0.1663 - val_accuracy: 0.9386\n",
      "Epoch 242/300\n",
      "15/15 [==============================] - 0s 6ms/step - loss: 0.1461 - accuracy: 0.9488 - val_loss: 0.1673 - val_accuracy: 0.9298\n",
      "Epoch 243/300\n",
      "15/15 [==============================] - 0s 6ms/step - loss: 0.1659 - accuracy: 0.9348 - val_loss: 0.1675 - val_accuracy: 0.9298\n",
      "Epoch 244/300\n",
      "15/15 [==============================] - 0s 6ms/step - loss: 0.1277 - accuracy: 0.9507 - val_loss: 0.1670 - val_accuracy: 0.9298\n",
      "Epoch 245/300\n",
      "15/15 [==============================] - 0s 6ms/step - loss: 0.1100 - accuracy: 0.9601 - val_loss: 0.1660 - val_accuracy: 0.9386\n",
      "Epoch 246/300\n",
      "15/15 [==============================] - 0s 6ms/step - loss: 0.1577 - accuracy: 0.9357 - val_loss: 0.1658 - val_accuracy: 0.9386\n",
      "Epoch 247/300\n",
      "15/15 [==============================] - 0s 5ms/step - loss: 0.1146 - accuracy: 0.9621 - val_loss: 0.1697 - val_accuracy: 0.9298\n",
      "Epoch 248/300\n",
      "15/15 [==============================] - 0s 6ms/step - loss: 0.1339 - accuracy: 0.9435 - val_loss: 0.1666 - val_accuracy: 0.9386\n",
      "Epoch 249/300\n",
      "15/15 [==============================] - 0s 5ms/step - loss: 0.1702 - accuracy: 0.9339 - val_loss: 0.1671 - val_accuracy: 0.9298\n",
      "Epoch 250/300\n",
      "15/15 [==============================] - 0s 6ms/step - loss: 0.1534 - accuracy: 0.9463 - val_loss: 0.1663 - val_accuracy: 0.9386\n",
      "Epoch 251/300\n",
      "15/15 [==============================] - 0s 6ms/step - loss: 0.1178 - accuracy: 0.9515 - val_loss: 0.1667 - val_accuracy: 0.9298\n",
      "Epoch 252/300\n",
      "15/15 [==============================] - 0s 7ms/step - loss: 0.1584 - accuracy: 0.9405 - val_loss: 0.1651 - val_accuracy: 0.9386\n",
      "Epoch 253/300\n",
      "15/15 [==============================] - 0s 6ms/step - loss: 0.1483 - accuracy: 0.9505 - val_loss: 0.1701 - val_accuracy: 0.9298\n",
      "Epoch 254/300\n",
      "15/15 [==============================] - 0s 6ms/step - loss: 0.1587 - accuracy: 0.9310 - val_loss: 0.1702 - val_accuracy: 0.9298\n",
      "Epoch 255/300\n",
      "15/15 [==============================] - 0s 6ms/step - loss: 0.1614 - accuracy: 0.9385 - val_loss: 0.1660 - val_accuracy: 0.9386\n",
      "Epoch 256/300\n",
      "15/15 [==============================] - 0s 6ms/step - loss: 0.1543 - accuracy: 0.9477 - val_loss: 0.1661 - val_accuracy: 0.9386\n",
      "Epoch 257/300\n",
      "15/15 [==============================] - 0s 6ms/step - loss: 0.1231 - accuracy: 0.9533 - val_loss: 0.1692 - val_accuracy: 0.9298\n",
      "Epoch 258/300\n",
      "15/15 [==============================] - 0s 6ms/step - loss: 0.1426 - accuracy: 0.9373 - val_loss: 0.1713 - val_accuracy: 0.9298\n",
      "Epoch 259/300\n",
      "15/15 [==============================] - 0s 6ms/step - loss: 0.1440 - accuracy: 0.9454 - val_loss: 0.1710 - val_accuracy: 0.9298\n",
      "Epoch 260/300\n",
      "15/15 [==============================] - 0s 6ms/step - loss: 0.1480 - accuracy: 0.9440 - val_loss: 0.1652 - val_accuracy: 0.9386\n",
      "Epoch 261/300\n",
      "15/15 [==============================] - 0s 6ms/step - loss: 0.1495 - accuracy: 0.9460 - val_loss: 0.1695 - val_accuracy: 0.9298\n",
      "Epoch 262/300\n",
      "15/15 [==============================] - 0s 6ms/step - loss: 0.1065 - accuracy: 0.9571 - val_loss: 0.1725 - val_accuracy: 0.9298\n",
      "Epoch 263/300\n",
      "15/15 [==============================] - 0s 6ms/step - loss: 0.1369 - accuracy: 0.9411 - val_loss: 0.1659 - val_accuracy: 0.9386\n",
      "Epoch 264/300\n",
      "15/15 [==============================] - 0s 6ms/step - loss: 0.1376 - accuracy: 0.9451 - val_loss: 0.1672 - val_accuracy: 0.9386\n",
      "Epoch 265/300\n",
      "15/15 [==============================] - 0s 6ms/step - loss: 0.1632 - accuracy: 0.9473 - val_loss: 0.1709 - val_accuracy: 0.9298\n",
      "Epoch 266/300\n",
      "15/15 [==============================] - 0s 6ms/step - loss: 0.1466 - accuracy: 0.9437 - val_loss: 0.1730 - val_accuracy: 0.9298\n",
      "Epoch 267/300\n",
      "15/15 [==============================] - 0s 6ms/step - loss: 0.1260 - accuracy: 0.9466 - val_loss: 0.1640 - val_accuracy: 0.9474\n",
      "Epoch 268/300\n",
      "15/15 [==============================] - 0s 6ms/step - loss: 0.1467 - accuracy: 0.9436 - val_loss: 0.1692 - val_accuracy: 0.9298\n",
      "Epoch 269/300\n",
      "15/15 [==============================] - 0s 6ms/step - loss: 0.1547 - accuracy: 0.9490 - val_loss: 0.1659 - val_accuracy: 0.9386\n",
      "Epoch 270/300\n",
      "15/15 [==============================] - 0s 6ms/step - loss: 0.1269 - accuracy: 0.9467 - val_loss: 0.1686 - val_accuracy: 0.9298\n",
      "Epoch 271/300\n",
      "15/15 [==============================] - 0s 6ms/step - loss: 0.1365 - accuracy: 0.9429 - val_loss: 0.1675 - val_accuracy: 0.9298\n",
      "Epoch 272/300\n",
      "15/15 [==============================] - 0s 6ms/step - loss: 0.1456 - accuracy: 0.9442 - val_loss: 0.1670 - val_accuracy: 0.9298\n",
      "Epoch 273/300\n",
      "15/15 [==============================] - 0s 6ms/step - loss: 0.1164 - accuracy: 0.9611 - val_loss: 0.1670 - val_accuracy: 0.9298\n",
      "Epoch 274/300\n",
      "15/15 [==============================] - 0s 6ms/step - loss: 0.1237 - accuracy: 0.9628 - val_loss: 0.1626 - val_accuracy: 0.9386\n",
      "Epoch 275/300\n",
      "15/15 [==============================] - 0s 6ms/step - loss: 0.1121 - accuracy: 0.9565 - val_loss: 0.1758 - val_accuracy: 0.9211\n",
      "Epoch 276/300\n",
      "15/15 [==============================] - 0s 6ms/step - loss: 0.1329 - accuracy: 0.9554 - val_loss: 0.1634 - val_accuracy: 0.9474\n",
      "Epoch 277/300\n",
      "15/15 [==============================] - 0s 6ms/step - loss: 0.1260 - accuracy: 0.9436 - val_loss: 0.1728 - val_accuracy: 0.9298\n",
      "Epoch 278/300\n",
      "15/15 [==============================] - 0s 6ms/step - loss: 0.1055 - accuracy: 0.9614 - val_loss: 0.1665 - val_accuracy: 0.9386\n",
      "Epoch 279/300\n",
      "15/15 [==============================] - 0s 6ms/step - loss: 0.1232 - accuracy: 0.9495 - val_loss: 0.1748 - val_accuracy: 0.9211\n",
      "Epoch 280/300\n",
      "15/15 [==============================] - 0s 6ms/step - loss: 0.1585 - accuracy: 0.9355 - val_loss: 0.1635 - val_accuracy: 0.9474\n",
      "Epoch 281/300\n",
      "15/15 [==============================] - 0s 6ms/step - loss: 0.1317 - accuracy: 0.9426 - val_loss: 0.1660 - val_accuracy: 0.9386\n",
      "Epoch 282/300\n",
      "15/15 [==============================] - 0s 6ms/step - loss: 0.1316 - accuracy: 0.9438 - val_loss: 0.1664 - val_accuracy: 0.9298\n",
      "Epoch 283/300\n",
      "15/15 [==============================] - 0s 6ms/step - loss: 0.1068 - accuracy: 0.9593 - val_loss: 0.1673 - val_accuracy: 0.9298\n",
      "Epoch 284/300\n",
      "15/15 [==============================] - 0s 6ms/step - loss: 0.1440 - accuracy: 0.9287 - val_loss: 0.1656 - val_accuracy: 0.9386\n",
      "Epoch 285/300\n",
      "15/15 [==============================] - 0s 6ms/step - loss: 0.1313 - accuracy: 0.9477 - val_loss: 0.1636 - val_accuracy: 0.9474\n",
      "Epoch 286/300\n",
      "15/15 [==============================] - 0s 6ms/step - loss: 0.1474 - accuracy: 0.9336 - val_loss: 0.1660 - val_accuracy: 0.9386\n",
      "Epoch 287/300\n",
      "15/15 [==============================] - 0s 7ms/step - loss: 0.1442 - accuracy: 0.9409 - val_loss: 0.1701 - val_accuracy: 0.9298\n",
      "Epoch 288/300\n",
      "15/15 [==============================] - 0s 7ms/step - loss: 0.1606 - accuracy: 0.9454 - val_loss: 0.1631 - val_accuracy: 0.9474\n",
      "Epoch 289/300\n",
      "15/15 [==============================] - 0s 6ms/step - loss: 0.1530 - accuracy: 0.9404 - val_loss: 0.1665 - val_accuracy: 0.9386\n",
      "Epoch 290/300\n",
      "15/15 [==============================] - 0s 6ms/step - loss: 0.1372 - accuracy: 0.9419 - val_loss: 0.1663 - val_accuracy: 0.9386\n",
      "Epoch 291/300\n",
      "15/15 [==============================] - 0s 6ms/step - loss: 0.1335 - accuracy: 0.9543 - val_loss: 0.1673 - val_accuracy: 0.9386\n",
      "Epoch 292/300\n",
      "15/15 [==============================] - 0s 6ms/step - loss: 0.1358 - accuracy: 0.9425 - val_loss: 0.1688 - val_accuracy: 0.9298\n",
      "Epoch 293/300\n",
      "15/15 [==============================] - 0s 6ms/step - loss: 0.1477 - accuracy: 0.9389 - val_loss: 0.1672 - val_accuracy: 0.9386\n",
      "Epoch 294/300\n",
      "15/15 [==============================] - 0s 6ms/step - loss: 0.1652 - accuracy: 0.9275 - val_loss: 0.1705 - val_accuracy: 0.9298\n",
      "Epoch 295/300\n",
      "15/15 [==============================] - 0s 6ms/step - loss: 0.1415 - accuracy: 0.9442 - val_loss: 0.1669 - val_accuracy: 0.9386\n",
      "Epoch 296/300\n",
      "15/15 [==============================] - 0s 6ms/step - loss: 0.1111 - accuracy: 0.9652 - val_loss: 0.1696 - val_accuracy: 0.9298\n",
      "Epoch 297/300\n",
      "15/15 [==============================] - 0s 6ms/step - loss: 0.1420 - accuracy: 0.9445 - val_loss: 0.1656 - val_accuracy: 0.9386\n",
      "Epoch 298/300\n",
      "15/15 [==============================] - 0s 6ms/step - loss: 0.1488 - accuracy: 0.9356 - val_loss: 0.1718 - val_accuracy: 0.9298\n",
      "Epoch 299/300\n",
      "15/15 [==============================] - 0s 6ms/step - loss: 0.1649 - accuracy: 0.9313 - val_loss: 0.1676 - val_accuracy: 0.9298\n",
      "Epoch 300/300\n",
      "15/15 [==============================] - 0s 6ms/step - loss: 0.1585 - accuracy: 0.9395 - val_loss: 0.1655 - val_accuracy: 0.9386\n"
     ]
    }
   ],
   "source": [
    "history=model.fit(X_train,y_train,validation_data=(X_test,y_test),epochs=300)"
   ]
  },
  {
   "cell_type": "code",
   "execution_count": 62,
   "id": "descending-adobe",
   "metadata": {
    "execution": {
     "iopub.execute_input": "2021-07-06T05:36:00.205323Z",
     "iopub.status.busy": "2021-07-06T05:36:00.204537Z",
     "iopub.status.idle": "2021-07-06T05:36:00.483938Z",
     "shell.execute_reply": "2021-07-06T05:36:00.483287Z",
     "shell.execute_reply.started": "2021-07-06T04:42:45.322552Z"
    },
    "papermill": {
     "duration": 0.56257,
     "end_time": "2021-07-06T05:36:00.484074",
     "exception": false,
     "start_time": "2021-07-06T05:35:59.921504",
     "status": "completed"
    },
    "tags": []
   },
   "outputs": [
    {
     "data": {
      "text/plain": [
       "Text(0.5, 1.0, 'Training and validation loss')"
      ]
     },
     "execution_count": 62,
     "metadata": {},
     "output_type": "execute_result"
    },
    {
     "data": {
      "image/png": "[encoded data removed]",
      "text/plain": [
       "<Figure size 432x288 with 1 Axes>"
      ]
     },
     "metadata": {
      "needs_background": "light"
     },
     "output_type": "display_data"
    },
    {
     "data": {
      "image/png": "[encoded data removed]",
      "text/plain": [
       "<Figure size 432x288 with 1 Axes>"
      ]
     },
     "metadata": {
      "needs_background": "light"
     },
     "output_type": "display_data"
    }
   ],
   "source": [
    "# PLOT LOSS AND ACCURACY\n",
    "%matplotlib inline\n",
    "\n",
    "import matplotlib.image  as mpimg\n",
    "import matplotlib.pyplot as plt\n",
    "\n",
    "acc=history.history['accuracy']\n",
    "val_acc=history.history['val_accuracy']\n",
    "loss=history.history['loss']\n",
    "val_loss=history.history['val_loss']\n",
    "\n",
    "epochs=range(len(acc)) # Get number of epochs\n",
    "\n",
    "#------------------------------------------------\n",
    "# Plot training and validation accuracy per epoch\n",
    "#------------------------------------------------\n",
    "plt.plot(epochs, acc, 'r', \"Training Accuracy\")\n",
    "plt.plot(epochs, val_acc, 'b', \"Validation Accuracy\")\n",
    "plt.title('Training and validation accuracy')\n",
    "plt.figure()\n",
    "\n",
    "#------------------------------------------------\n",
    "# Plot training and validation loss per epoch\n",
    "#------------------------------------------------\n",
    "plt.plot(epochs, loss, 'r', \"Training Loss\")\n",
    "plt.plot(epochs, val_loss, 'b', \"Validation Loss\")\n",
    "\n",
    "\n",
    "plt.title('Training and validation loss')"
   ]
  },
  {
   "cell_type": "code",
   "execution_count": 63,
   "id": "combined-active",
   "metadata": {
    "execution": {
     "iopub.execute_input": "2021-07-06T05:36:01.027433Z",
     "iopub.status.busy": "2021-07-06T05:36:01.026749Z",
     "iopub.status.idle": "2021-07-06T05:36:01.145088Z",
     "shell.execute_reply": "2021-07-06T05:36:01.145661Z",
     "shell.execute_reply.started": "2021-07-06T04:42:49.143192Z"
    },
    "papermill": {
     "duration": 0.392864,
     "end_time": "2021-07-06T05:36:01.145846",
     "exception": false,
     "start_time": "2021-07-06T05:36:00.752982",
     "status": "completed"
    },
    "tags": []
   },
   "outputs": [],
   "source": [
    "y_prediction=model.predict(X_test)\n",
    "cutoff=0.5\n",
    "y_pred=np.where(y_prediction>cutoff,1,0)"
   ]
  },
  {
   "cell_type": "code",
   "execution_count": 64,
   "id": "naked-group",
   "metadata": {
    "execution": {
     "iopub.execute_input": "2021-07-06T05:36:01.707798Z",
     "iopub.status.busy": "2021-07-06T05:36:01.707029Z",
     "iopub.status.idle": "2021-07-06T05:36:01.714758Z",
     "shell.execute_reply": "2021-07-06T05:36:01.714197Z",
     "shell.execute_reply.started": "2021-07-06T04:42:50.775638Z"
    },
    "papermill": {
     "duration": 0.292156,
     "end_time": "2021-07-06T05:36:01.714959",
     "exception": false,
     "start_time": "2021-07-06T05:36:01.422803",
     "status": "completed"
    },
    "tags": []
   },
   "outputs": [
    {
     "data": {
      "text/plain": [
       "array([[42,  5],\n",
       "       [ 2, 65]])"
      ]
     },
     "execution_count": 64,
     "metadata": {},
     "output_type": "execute_result"
    }
   ],
   "source": [
    "cm_deep = confusion_matrix(y_test, y_pred)\n",
    "cm_deep"
   ]
  },
  {
   "cell_type": "code",
   "execution_count": 65,
   "id": "animated-privacy",
   "metadata": {
    "execution": {
     "iopub.execute_input": "2021-07-06T05:36:02.314324Z",
     "iopub.status.busy": "2021-07-06T05:36:02.311024Z",
     "iopub.status.idle": "2021-07-06T05:36:02.560426Z",
     "shell.execute_reply": "2021-07-06T05:36:02.559213Z",
     "shell.execute_reply.started": "2021-07-06T04:42:53.190931Z"
    },
    "papermill": {
     "duration": 0.564902,
     "end_time": "2021-07-06T05:36:02.560612",
     "exception": false,
     "start_time": "2021-07-06T05:36:01.995710",
     "status": "completed"
    },
    "tags": []
   },
   "outputs": [
    {
     "data": {
      "text/plain": [
       "<AxesSubplot:>"
      ]
     },
     "execution_count": 65,
     "metadata": {},
     "output_type": "execute_result"
    },
    {
     "data": {
      "image/png": "[encoded data removed]",
      "text/plain": [
       "<Figure size 432x288 with 2 Axes>"
      ]
     },
     "metadata": {
      "needs_background": "light"
     },
     "output_type": "display_data"
    }
   ],
   "source": [
    "cm_matrix = pd.DataFrame(data=cm_deep, columns=['Actual Positive:1', 'Actual Negative:0'], \n",
    "                                 index=['Predict Positive:1', 'Predict Negative:0'])\n",
    "\n",
    "sns.heatmap(cm_matrix, annot=True)"
   ]
  },
  {
   "cell_type": "code",
   "execution_count": 66,
   "id": "vital-andorra",
   "metadata": {
    "execution": {
     "iopub.execute_input": "2021-07-06T05:36:03.110713Z",
     "iopub.status.busy": "2021-07-06T05:36:03.110038Z",
     "iopub.status.idle": "2021-07-06T05:36:03.119158Z",
     "shell.execute_reply": "2021-07-06T05:36:03.119712Z",
     "shell.execute_reply.started": "2021-07-06T04:42:55.628957Z"
    },
    "papermill": {
     "duration": 0.287686,
     "end_time": "2021-07-06T05:36:03.119895",
     "exception": false,
     "start_time": "2021-07-06T05:36:02.832209",
     "status": "completed"
    },
    "tags": []
   },
   "outputs": [
    {
     "name": "stdout",
     "output_type": "stream",
     "text": [
      "              precision    recall  f1-score   support\n",
      "\n",
      "           0       0.95      0.89      0.92        47\n",
      "           1       0.93      0.97      0.95        67\n",
      "\n",
      "    accuracy                           0.94       114\n",
      "   macro avg       0.94      0.93      0.94       114\n",
      "weighted avg       0.94      0.94      0.94       114\n",
      "\n"
     ]
    }
   ],
   "source": [
    "print(classification_report(y_test, y_pred))"
   ]
  },
  {
   "cell_type": "markdown",
   "id": "chemical-indie",
   "metadata": {
    "papermill": {
     "duration": 0.269495,
     "end_time": "2021-07-06T05:36:03.662641",
     "exception": false,
     "start_time": "2021-07-06T05:36:03.393146",
     "status": "completed"
    },
    "tags": []
   },
   "source": [
    "## Conclusion: I have tried 7 different models to train (linear, svc, random forest, gradientboosting, histgradientboosting, voting with 3 tree based & svc and deep learning), and voting method and deep learning have the best score. However, while voting model has more false negative, deep learning has more false positive and since false negative could bring more critical issues in breast cancer classification, deep learning algorithm shows the best result."
   ]
  }
 ],
 "metadata": {
  "kernelspec": {
   "display_name": "Python 3",
   "language": "python",
   "name": "python3"
  },
  "language_info": {
   "codemirror_mode": {
    "name": "ipython",
    "version": 3
   },
   "file_extension": ".py",
   "mimetype": "text/x-python",
   "name": "python",
   "nbconvert_exporter": "python",
   "pygments_lexer": "ipython3",
   "version": "3.7.10"
  },
  "papermill": {
   "default_parameters": {},
   "duration": 434.244956,
   "end_time": "2021-07-06T05:36:05.354919",
   "environment_variables": {},
   "exception": null,
   "input_path": "__notebook__.ipynb",
   "output_path": "__notebook__.ipynb",
   "parameters": {},
   "start_time": "2021-07-06T05:28:51.109963",
   "version": "2.3.3"
  }
 },
 "nbformat": 4,
 "nbformat_minor": 5
}
